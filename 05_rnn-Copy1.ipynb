{
 "cells": [
  {
   "cell_type": "code",
   "execution_count": 1,
   "metadata": {
    "ExecuteTime": {
     "end_time": "2020-06-03T20:01:50.213433Z",
     "start_time": "2020-06-03T20:01:44.974655Z"
    }
   },
   "outputs": [],
   "source": [
    "import numpy as np\n",
    "import pandas as pd\n",
    "\n",
    "from sklearn.preprocessing import StandardScaler\n",
    "from sklearn.model_selection import train_test_split\n",
    "from sklearn.metrics import accuracy_score\n",
    "\n",
    "from tensorflow.keras.models import Sequential\n",
    "from tensorflow.keras.layers import Dense, Dropout, GRU, Embedding\n",
    "from tensorflow.keras.optimizers import Adam\n",
    "from tensorflow.keras.preprocessing.sequence import TimeseriesGenerator\n",
    "from tensorflow.keras.utils import to_categorical\n",
    "import pickle\n",
    "\n",
    "\n",
    "import matplotlib.pyplot as plt\n",
    "%matplotlib inline"
   ]
  },
  {
   "cell_type": "code",
   "execution_count": null,
   "metadata": {},
   "outputs": [],
   "source": [
    "directory = './datasets/resampled/'\n",
    "files = [file for file in os.listdir(directory) if file.endswith('.csv')]\n",
    "\n",
    "stocks = {}\n",
    "for file in files:\n",
    "    df = pd.read_csv(directory + file, index_col='date_time', parse_dates=True)\n",
    "    df.sort_index(inplace=True)\n",
    "    df['target'] = np.where(df['mean_px_1'] > 0, 1,\n",
    "                           np.where(df['mean_px_1'] < 0, -1, 0))\n",
    "    ticker = df['ticker'][0]\n",
    "    stocks[ticker] = df\n",
    "    "
   ]
  },
  {
   "cell_type": "code",
   "execution_count": 21,
   "metadata": {
    "ExecuteTime": {
     "end_time": "2020-06-03T20:09:53.010960Z",
     "start_time": "2020-06-03T20:09:52.910604Z"
    }
   },
   "outputs": [
    {
     "data": {
      "text/html": [
       "<div>\n",
       "<style scoped>\n",
       "    .dataframe tbody tr th:only-of-type {\n",
       "        vertical-align: middle;\n",
       "    }\n",
       "\n",
       "    .dataframe tbody tr th {\n",
       "        vertical-align: top;\n",
       "    }\n",
       "\n",
       "    .dataframe thead th {\n",
       "        text-align: right;\n",
       "    }\n",
       "</style>\n",
       "<table border=\"1\" class=\"dataframe\">\n",
       "  <thead>\n",
       "    <tr style=\"text-align: right;\">\n",
       "      <th></th>\n",
       "      <th>ticker</th>\n",
       "      <th>date</th>\n",
       "      <th>time</th>\n",
       "      <th>price</th>\n",
       "      <th>vol</th>\n",
       "      <th>date_time</th>\n",
       "    </tr>\n",
       "  </thead>\n",
       "  <tbody>\n",
       "    <tr>\n",
       "      <th>0</th>\n",
       "      <td>gs</td>\n",
       "      <td>20190903</td>\n",
       "      <td>93005</td>\n",
       "      <td>201.61</td>\n",
       "      <td>100</td>\n",
       "      <td>2019-09-03 09:30:05</td>\n",
       "    </tr>\n",
       "    <tr>\n",
       "      <th>1</th>\n",
       "      <td>gs</td>\n",
       "      <td>20190903</td>\n",
       "      <td>93007</td>\n",
       "      <td>201.61</td>\n",
       "      <td>100</td>\n",
       "      <td>2019-09-03 09:30:07</td>\n",
       "    </tr>\n",
       "    <tr>\n",
       "      <th>2</th>\n",
       "      <td>gs</td>\n",
       "      <td>20190903</td>\n",
       "      <td>93012</td>\n",
       "      <td>201.28</td>\n",
       "      <td>100</td>\n",
       "      <td>2019-09-03 09:30:12</td>\n",
       "    </tr>\n",
       "    <tr>\n",
       "      <th>3</th>\n",
       "      <td>gs</td>\n",
       "      <td>20190903</td>\n",
       "      <td>93021</td>\n",
       "      <td>201.45</td>\n",
       "      <td>100</td>\n",
       "      <td>2019-09-03 09:30:21</td>\n",
       "    </tr>\n",
       "    <tr>\n",
       "      <th>4</th>\n",
       "      <td>gs</td>\n",
       "      <td>20190903</td>\n",
       "      <td>93042</td>\n",
       "      <td>201.04</td>\n",
       "      <td>100</td>\n",
       "      <td>2019-09-03 09:30:42</td>\n",
       "    </tr>\n",
       "  </tbody>\n",
       "</table>\n",
       "</div>"
      ],
      "text/plain": [
       "  ticker      date   time   price  vol            date_time\n",
       "0     gs  20190903  93005  201.61  100  2019-09-03 09:30:05\n",
       "1     gs  20190903  93007  201.61  100  2019-09-03 09:30:07\n",
       "2     gs  20190903  93012  201.28  100  2019-09-03 09:30:12\n",
       "3     gs  20190903  93021  201.45  100  2019-09-03 09:30:21\n",
       "4     gs  20190903  93042  201.04  100  2019-09-03 09:30:42"
      ]
     },
     "execution_count": 21,
     "metadata": {},
     "output_type": "execute_result"
    }
   ],
   "source": [
    "df = pd.read_csv('./datasets/russia site/cleaned/gs.csv')\n",
    "df.head()"
   ]
  },
  {
   "cell_type": "code",
   "execution_count": 22,
   "metadata": {
    "ExecuteTime": {
     "end_time": "2020-06-03T20:09:54.807130Z",
     "start_time": "2020-06-03T20:09:54.748125Z"
    }
   },
   "outputs": [],
   "source": [
    "df['date_time'] = pd.to_datetime(df['date_time'], \n",
    "                                     format='%Y-%m-%d %H:%M:%S')\n",
    "df.set_index('date_time', inplace=True)\n",
    "df.index = pd.DatetimeIndex(df.index).to_period('ms')\n",
    "df.sort_index(inplace=True)\n",
    "\n",
    "\n"
   ]
  },
  {
   "cell_type": "code",
   "execution_count": 24,
   "metadata": {
    "ExecuteTime": {
     "end_time": "2020-06-03T20:11:24.356821Z",
     "start_time": "2020-06-03T20:11:24.314897Z"
    }
   },
   "outputs": [
    {
     "data": {
      "text/html": [
       "<div>\n",
       "<style scoped>\n",
       "    .dataframe tbody tr th:only-of-type {\n",
       "        vertical-align: middle;\n",
       "    }\n",
       "\n",
       "    .dataframe tbody tr th {\n",
       "        vertical-align: top;\n",
       "    }\n",
       "\n",
       "    .dataframe thead th {\n",
       "        text-align: right;\n",
       "    }\n",
       "</style>\n",
       "<table border=\"1\" class=\"dataframe\">\n",
       "  <thead>\n",
       "    <tr style=\"text-align: right;\">\n",
       "      <th></th>\n",
       "      <th>ticker</th>\n",
       "      <th>date</th>\n",
       "      <th>time</th>\n",
       "      <th>price</th>\n",
       "      <th>vol</th>\n",
       "      <th>px_1</th>\n",
       "      <th>px_2</th>\n",
       "      <th>px_3</th>\n",
       "      <th>px_4</th>\n",
       "      <th>px_5</th>\n",
       "      <th>px_10</th>\n",
       "      <th>px_15</th>\n",
       "      <th>px_30</th>\n",
       "      <th>px_60</th>\n",
       "    </tr>\n",
       "    <tr>\n",
       "      <th>date_time</th>\n",
       "      <th></th>\n",
       "      <th></th>\n",
       "      <th></th>\n",
       "      <th></th>\n",
       "      <th></th>\n",
       "      <th></th>\n",
       "      <th></th>\n",
       "      <th></th>\n",
       "      <th></th>\n",
       "      <th></th>\n",
       "      <th></th>\n",
       "      <th></th>\n",
       "      <th></th>\n",
       "      <th></th>\n",
       "    </tr>\n",
       "  </thead>\n",
       "  <tbody>\n",
       "    <tr>\n",
       "      <th>2019-09-03 09:30:05.000</th>\n",
       "      <td>gs</td>\n",
       "      <td>20190903</td>\n",
       "      <td>93005</td>\n",
       "      <td>201.61</td>\n",
       "      <td>100</td>\n",
       "      <td>NaN</td>\n",
       "      <td>NaN</td>\n",
       "      <td>NaN</td>\n",
       "      <td>NaN</td>\n",
       "      <td>NaN</td>\n",
       "      <td>NaN</td>\n",
       "      <td>NaN</td>\n",
       "      <td>NaN</td>\n",
       "      <td>NaN</td>\n",
       "    </tr>\n",
       "    <tr>\n",
       "      <th>2019-09-03 09:30:07.000</th>\n",
       "      <td>gs</td>\n",
       "      <td>20190903</td>\n",
       "      <td>93007</td>\n",
       "      <td>201.61</td>\n",
       "      <td>100</td>\n",
       "      <td>0.000000</td>\n",
       "      <td>NaN</td>\n",
       "      <td>NaN</td>\n",
       "      <td>NaN</td>\n",
       "      <td>NaN</td>\n",
       "      <td>NaN</td>\n",
       "      <td>NaN</td>\n",
       "      <td>NaN</td>\n",
       "      <td>NaN</td>\n",
       "    </tr>\n",
       "    <tr>\n",
       "      <th>2019-09-03 09:30:12.000</th>\n",
       "      <td>gs</td>\n",
       "      <td>20190903</td>\n",
       "      <td>93012</td>\n",
       "      <td>201.28</td>\n",
       "      <td>100</td>\n",
       "      <td>-0.001637</td>\n",
       "      <td>-0.001637</td>\n",
       "      <td>NaN</td>\n",
       "      <td>NaN</td>\n",
       "      <td>NaN</td>\n",
       "      <td>NaN</td>\n",
       "      <td>NaN</td>\n",
       "      <td>NaN</td>\n",
       "      <td>NaN</td>\n",
       "    </tr>\n",
       "    <tr>\n",
       "      <th>2019-09-03 09:30:21.000</th>\n",
       "      <td>gs</td>\n",
       "      <td>20190903</td>\n",
       "      <td>93021</td>\n",
       "      <td>201.45</td>\n",
       "      <td>100</td>\n",
       "      <td>0.000845</td>\n",
       "      <td>-0.000794</td>\n",
       "      <td>-0.000794</td>\n",
       "      <td>NaN</td>\n",
       "      <td>NaN</td>\n",
       "      <td>NaN</td>\n",
       "      <td>NaN</td>\n",
       "      <td>NaN</td>\n",
       "      <td>NaN</td>\n",
       "    </tr>\n",
       "    <tr>\n",
       "      <th>2019-09-03 09:30:42.000</th>\n",
       "      <td>gs</td>\n",
       "      <td>20190903</td>\n",
       "      <td>93042</td>\n",
       "      <td>201.04</td>\n",
       "      <td>100</td>\n",
       "      <td>-0.002035</td>\n",
       "      <td>-0.001192</td>\n",
       "      <td>-0.002827</td>\n",
       "      <td>-0.002827</td>\n",
       "      <td>NaN</td>\n",
       "      <td>NaN</td>\n",
       "      <td>NaN</td>\n",
       "      <td>NaN</td>\n",
       "      <td>NaN</td>\n",
       "    </tr>\n",
       "  </tbody>\n",
       "</table>\n",
       "</div>"
      ],
      "text/plain": [
       "                        ticker      date   time   price  vol      px_1  \\\n",
       "date_time                                                                \n",
       "2019-09-03 09:30:05.000     gs  20190903  93005  201.61  100       NaN   \n",
       "2019-09-03 09:30:07.000     gs  20190903  93007  201.61  100  0.000000   \n",
       "2019-09-03 09:30:12.000     gs  20190903  93012  201.28  100 -0.001637   \n",
       "2019-09-03 09:30:21.000     gs  20190903  93021  201.45  100  0.000845   \n",
       "2019-09-03 09:30:42.000     gs  20190903  93042  201.04  100 -0.002035   \n",
       "\n",
       "                             px_2      px_3      px_4  px_5  px_10  px_15  \\\n",
       "date_time                                                                   \n",
       "2019-09-03 09:30:05.000       NaN       NaN       NaN   NaN    NaN    NaN   \n",
       "2019-09-03 09:30:07.000       NaN       NaN       NaN   NaN    NaN    NaN   \n",
       "2019-09-03 09:30:12.000 -0.001637       NaN       NaN   NaN    NaN    NaN   \n",
       "2019-09-03 09:30:21.000 -0.000794 -0.000794       NaN   NaN    NaN    NaN   \n",
       "2019-09-03 09:30:42.000 -0.001192 -0.002827 -0.002827   NaN    NaN    NaN   \n",
       "\n",
       "                         px_30  px_60  \n",
       "date_time                              \n",
       "2019-09-03 09:30:05.000    NaN    NaN  \n",
       "2019-09-03 09:30:07.000    NaN    NaN  \n",
       "2019-09-03 09:30:12.000    NaN    NaN  \n",
       "2019-09-03 09:30:21.000    NaN    NaN  \n",
       "2019-09-03 09:30:42.000    NaN    NaN  "
      ]
     },
     "execution_count": 24,
     "metadata": {},
     "output_type": "execute_result"
    }
   ],
   "source": [
    "intervals = [1, 2, 3, 4, 5, 10, 15, 30, 60]\n",
    "for i in intervals:\n",
    "    df[f'px_{i}'] = df['price'].pct_change(i)\n",
    "df.head()"
   ]
  },
  {
   "cell_type": "code",
   "execution_count": 2,
   "metadata": {
    "ExecuteTime": {
     "end_time": "2020-06-03T20:01:50.592356Z",
     "start_time": "2020-06-03T20:01:50.215256Z"
    }
   },
   "outputs": [
    {
     "data": {
      "text/html": [
       "<div>\n",
       "<style scoped>\n",
       "    .dataframe tbody tr th:only-of-type {\n",
       "        vertical-align: middle;\n",
       "    }\n",
       "\n",
       "    .dataframe tbody tr th {\n",
       "        vertical-align: top;\n",
       "    }\n",
       "\n",
       "    .dataframe thead th {\n",
       "        text-align: right;\n",
       "    }\n",
       "</style>\n",
       "<table border=\"1\" class=\"dataframe\">\n",
       "  <thead>\n",
       "    <tr style=\"text-align: right;\">\n",
       "      <th></th>\n",
       "      <th>vol</th>\n",
       "      <th>price open</th>\n",
       "      <th>price high</th>\n",
       "      <th>price low</th>\n",
       "      <th>price close</th>\n",
       "      <th>mean_price</th>\n",
       "      <th>high_px_1</th>\n",
       "      <th>mean_px_1</th>\n",
       "      <th>high_px_2</th>\n",
       "      <th>mean_px_2</th>\n",
       "      <th>...</th>\n",
       "      <th>mean_px_5</th>\n",
       "      <th>high_px_10</th>\n",
       "      <th>mean_px_10</th>\n",
       "      <th>high_px_15</th>\n",
       "      <th>mean_px_15</th>\n",
       "      <th>high_px_30</th>\n",
       "      <th>mean_px_30</th>\n",
       "      <th>high_px_60</th>\n",
       "      <th>mean_px_60</th>\n",
       "      <th>ticker</th>\n",
       "    </tr>\n",
       "    <tr>\n",
       "      <th>date_time</th>\n",
       "      <th></th>\n",
       "      <th></th>\n",
       "      <th></th>\n",
       "      <th></th>\n",
       "      <th></th>\n",
       "      <th></th>\n",
       "      <th></th>\n",
       "      <th></th>\n",
       "      <th></th>\n",
       "      <th></th>\n",
       "      <th></th>\n",
       "      <th></th>\n",
       "      <th></th>\n",
       "      <th></th>\n",
       "      <th></th>\n",
       "      <th></th>\n",
       "      <th></th>\n",
       "      <th></th>\n",
       "      <th></th>\n",
       "      <th></th>\n",
       "      <th></th>\n",
       "    </tr>\n",
       "  </thead>\n",
       "  <tbody>\n",
       "    <tr>\n",
       "      <th>2019-09-03 09:30:05</th>\n",
       "      <td>100</td>\n",
       "      <td>201.61</td>\n",
       "      <td>201.61</td>\n",
       "      <td>201.61</td>\n",
       "      <td>201.61</td>\n",
       "      <td>201.61</td>\n",
       "      <td>NaN</td>\n",
       "      <td>NaN</td>\n",
       "      <td>NaN</td>\n",
       "      <td>NaN</td>\n",
       "      <td>...</td>\n",
       "      <td>NaN</td>\n",
       "      <td>NaN</td>\n",
       "      <td>NaN</td>\n",
       "      <td>NaN</td>\n",
       "      <td>NaN</td>\n",
       "      <td>NaN</td>\n",
       "      <td>NaN</td>\n",
       "      <td>NaN</td>\n",
       "      <td>NaN</td>\n",
       "      <td>gs</td>\n",
       "    </tr>\n",
       "    <tr>\n",
       "      <th>2019-09-03 09:30:06</th>\n",
       "      <td>0</td>\n",
       "      <td>201.61</td>\n",
       "      <td>201.61</td>\n",
       "      <td>201.61</td>\n",
       "      <td>201.61</td>\n",
       "      <td>201.61</td>\n",
       "      <td>0.0</td>\n",
       "      <td>0.0</td>\n",
       "      <td>NaN</td>\n",
       "      <td>NaN</td>\n",
       "      <td>...</td>\n",
       "      <td>NaN</td>\n",
       "      <td>NaN</td>\n",
       "      <td>NaN</td>\n",
       "      <td>NaN</td>\n",
       "      <td>NaN</td>\n",
       "      <td>NaN</td>\n",
       "      <td>NaN</td>\n",
       "      <td>NaN</td>\n",
       "      <td>NaN</td>\n",
       "      <td>gs</td>\n",
       "    </tr>\n",
       "    <tr>\n",
       "      <th>2019-09-03 09:30:07</th>\n",
       "      <td>100</td>\n",
       "      <td>201.61</td>\n",
       "      <td>201.61</td>\n",
       "      <td>201.61</td>\n",
       "      <td>201.61</td>\n",
       "      <td>201.61</td>\n",
       "      <td>0.0</td>\n",
       "      <td>0.0</td>\n",
       "      <td>0.0</td>\n",
       "      <td>0.0</td>\n",
       "      <td>...</td>\n",
       "      <td>NaN</td>\n",
       "      <td>NaN</td>\n",
       "      <td>NaN</td>\n",
       "      <td>NaN</td>\n",
       "      <td>NaN</td>\n",
       "      <td>NaN</td>\n",
       "      <td>NaN</td>\n",
       "      <td>NaN</td>\n",
       "      <td>NaN</td>\n",
       "      <td>gs</td>\n",
       "    </tr>\n",
       "    <tr>\n",
       "      <th>2019-09-03 09:30:08</th>\n",
       "      <td>0</td>\n",
       "      <td>201.61</td>\n",
       "      <td>201.61</td>\n",
       "      <td>201.61</td>\n",
       "      <td>201.61</td>\n",
       "      <td>201.61</td>\n",
       "      <td>0.0</td>\n",
       "      <td>0.0</td>\n",
       "      <td>0.0</td>\n",
       "      <td>0.0</td>\n",
       "      <td>...</td>\n",
       "      <td>NaN</td>\n",
       "      <td>NaN</td>\n",
       "      <td>NaN</td>\n",
       "      <td>NaN</td>\n",
       "      <td>NaN</td>\n",
       "      <td>NaN</td>\n",
       "      <td>NaN</td>\n",
       "      <td>NaN</td>\n",
       "      <td>NaN</td>\n",
       "      <td>gs</td>\n",
       "    </tr>\n",
       "    <tr>\n",
       "      <th>2019-09-03 09:30:09</th>\n",
       "      <td>0</td>\n",
       "      <td>201.61</td>\n",
       "      <td>201.61</td>\n",
       "      <td>201.61</td>\n",
       "      <td>201.61</td>\n",
       "      <td>201.61</td>\n",
       "      <td>0.0</td>\n",
       "      <td>0.0</td>\n",
       "      <td>0.0</td>\n",
       "      <td>0.0</td>\n",
       "      <td>...</td>\n",
       "      <td>NaN</td>\n",
       "      <td>NaN</td>\n",
       "      <td>NaN</td>\n",
       "      <td>NaN</td>\n",
       "      <td>NaN</td>\n",
       "      <td>NaN</td>\n",
       "      <td>NaN</td>\n",
       "      <td>NaN</td>\n",
       "      <td>NaN</td>\n",
       "      <td>gs</td>\n",
       "    </tr>\n",
       "  </tbody>\n",
       "</table>\n",
       "<p>5 rows × 25 columns</p>\n",
       "</div>"
      ],
      "text/plain": [
       "                     vol  price open  price high  price low  price close  \\\n",
       "date_time                                                                  \n",
       "2019-09-03 09:30:05  100      201.61      201.61     201.61       201.61   \n",
       "2019-09-03 09:30:06    0      201.61      201.61     201.61       201.61   \n",
       "2019-09-03 09:30:07  100      201.61      201.61     201.61       201.61   \n",
       "2019-09-03 09:30:08    0      201.61      201.61     201.61       201.61   \n",
       "2019-09-03 09:30:09    0      201.61      201.61     201.61       201.61   \n",
       "\n",
       "                     mean_price  high_px_1  mean_px_1  high_px_2  mean_px_2  \\\n",
       "date_time                                                                     \n",
       "2019-09-03 09:30:05      201.61        NaN        NaN        NaN        NaN   \n",
       "2019-09-03 09:30:06      201.61        0.0        0.0        NaN        NaN   \n",
       "2019-09-03 09:30:07      201.61        0.0        0.0        0.0        0.0   \n",
       "2019-09-03 09:30:08      201.61        0.0        0.0        0.0        0.0   \n",
       "2019-09-03 09:30:09      201.61        0.0        0.0        0.0        0.0   \n",
       "\n",
       "                     ...  mean_px_5  high_px_10  mean_px_10  high_px_15  \\\n",
       "date_time            ...                                                  \n",
       "2019-09-03 09:30:05  ...        NaN         NaN         NaN         NaN   \n",
       "2019-09-03 09:30:06  ...        NaN         NaN         NaN         NaN   \n",
       "2019-09-03 09:30:07  ...        NaN         NaN         NaN         NaN   \n",
       "2019-09-03 09:30:08  ...        NaN         NaN         NaN         NaN   \n",
       "2019-09-03 09:30:09  ...        NaN         NaN         NaN         NaN   \n",
       "\n",
       "                     mean_px_15  high_px_30  mean_px_30  high_px_60  \\\n",
       "date_time                                                             \n",
       "2019-09-03 09:30:05         NaN         NaN         NaN         NaN   \n",
       "2019-09-03 09:30:06         NaN         NaN         NaN         NaN   \n",
       "2019-09-03 09:30:07         NaN         NaN         NaN         NaN   \n",
       "2019-09-03 09:30:08         NaN         NaN         NaN         NaN   \n",
       "2019-09-03 09:30:09         NaN         NaN         NaN         NaN   \n",
       "\n",
       "                     mean_px_60  ticker  \n",
       "date_time                                \n",
       "2019-09-03 09:30:05         NaN      gs  \n",
       "2019-09-03 09:30:06         NaN      gs  \n",
       "2019-09-03 09:30:07         NaN      gs  \n",
       "2019-09-03 09:30:08         NaN      gs  \n",
       "2019-09-03 09:30:09         NaN      gs  \n",
       "\n",
       "[5 rows x 25 columns]"
      ]
     },
     "execution_count": 2,
     "metadata": {},
     "output_type": "execute_result"
    }
   ],
   "source": [
    "df = pd.read_csv('./datasets/resampled/gs.csv', index_col='date_time', parse_dates=True, nrows=100_000)\n",
    "df.sort_index(inplace=True)\n",
    "df.head()"
   ]
  },
  {
   "cell_type": "code",
   "execution_count": 25,
   "metadata": {
    "ExecuteTime": {
     "end_time": "2020-06-03T20:11:54.630580Z",
     "start_time": "2020-06-03T20:11:54.576536Z"
    }
   },
   "outputs": [
    {
     "data": {
      "text/plain": [
       "2    0.37790\n",
       "0    0.37383\n",
       "1    0.24827\n",
       "Name: target, dtype: float64"
      ]
     },
     "execution_count": 25,
     "metadata": {},
     "output_type": "execute_result"
    }
   ],
   "source": [
    "df['target'] = np.where(df['px_1'] > 0, 2,\n",
    "                           np.where(df['px_1'] < 0, 0, 1))\n",
    "df.dropna(inplace=True)\n",
    "df['target'].value_counts(normalize=True)"
   ]
  },
  {
   "cell_type": "code",
   "execution_count": 13,
   "metadata": {
    "ExecuteTime": {
     "end_time": "2020-06-03T20:05:15.929753Z",
     "start_time": "2020-06-03T20:05:15.925543Z"
    }
   },
   "outputs": [
    {
     "data": {
      "text/plain": [
       "98580"
      ]
     },
     "execution_count": 13,
     "metadata": {},
     "output_type": "execute_result"
    }
   ],
   "source": [
    "(df['mean_px_1']==0).sum()"
   ]
  },
  {
   "cell_type": "code",
   "execution_count": 26,
   "metadata": {
    "ExecuteTime": {
     "end_time": "2020-06-03T20:12:20.939505Z",
     "start_time": "2020-06-03T20:12:20.924571Z"
    }
   },
   "outputs": [],
   "source": [
    "X = df.drop(columns=['target', 'ticker', 'date', 'time'])\n",
    "y = df['target']\n",
    "y = to_categorical(y)\n",
    "X_train, X_test, y_train, y_test = train_test_split(X, y, shuffle=False)"
   ]
  },
  {
   "cell_type": "code",
   "execution_count": 27,
   "metadata": {
    "ExecuteTime": {
     "end_time": "2020-06-03T20:12:24.571973Z",
     "start_time": "2020-06-03T20:12:24.541415Z"
    }
   },
   "outputs": [],
   "source": [
    "ss = StandardScaler()\n",
    "X_train_sc = ss.fit_transform(X_train)\n",
    "X_test_sc = ss.transform(X_test)\n",
    "\n",
    "tsg_len = 5\n",
    "tsg_batch = 512\n",
    "train_seq = TimeseriesGenerator(X_train_sc, y_train, \n",
    "                                length=tsg_len, batch_size=tsg_batch)\n",
    "test_seq = TimeseriesGenerator(X_test_sc, y_test, \n",
    "                               length=tsg_len, batch_size=tsg_batch)\n"
   ]
  },
  {
   "cell_type": "code",
   "execution_count": 28,
   "metadata": {
    "ExecuteTime": {
     "end_time": "2020-06-03T20:12:44.184935Z",
     "start_time": "2020-06-03T20:12:26.354582Z"
    }
   },
   "outputs": [
    {
     "name": "stdout",
     "output_type": "stream",
     "text": [
      "Epoch 1/10\n",
      "160/160 [==============================] - 2s 12ms/step - loss: 1.0827 - accuracy: 0.3802 - val_loss: 1.0800 - val_accuracy: 0.3855\n",
      "Epoch 2/10\n",
      "160/160 [==============================] - 1s 9ms/step - loss: 1.0781 - accuracy: 0.3886 - val_loss: 1.0787 - val_accuracy: 0.3896\n",
      "Epoch 3/10\n",
      "160/160 [==============================] - 1s 9ms/step - loss: 1.0767 - accuracy: 0.3929 - val_loss: 1.0795 - val_accuracy: 0.3908\n",
      "Epoch 4/10\n",
      "160/160 [==============================] - 1s 9ms/step - loss: 1.0756 - accuracy: 0.3970 - val_loss: 1.0780 - val_accuracy: 0.3956\n",
      "Epoch 5/10\n",
      "160/160 [==============================] - 1s 9ms/step - loss: 1.0748 - accuracy: 0.3991 - val_loss: 1.0783 - val_accuracy: 0.3941\n",
      "Epoch 6/10\n",
      "160/160 [==============================] - 1s 9ms/step - loss: 1.0742 - accuracy: 0.4001 - val_loss: 1.0756 - val_accuracy: 0.4015\n",
      "Epoch 7/10\n",
      "160/160 [==============================] - 1s 9ms/step - loss: 1.0734 - accuracy: 0.4026 - val_loss: 1.0772 - val_accuracy: 0.3958\n",
      "Epoch 8/10\n",
      "160/160 [==============================] - 1s 9ms/step - loss: 1.0729 - accuracy: 0.4036 - val_loss: 1.0769 - val_accuracy: 0.4001\n",
      "Epoch 9/10\n",
      "160/160 [==============================] - 1s 9ms/step - loss: 1.0725 - accuracy: 0.4043 - val_loss: 1.0757 - val_accuracy: 0.4025\n",
      "Epoch 10/10\n",
      "160/160 [==============================] - 1s 9ms/step - loss: 1.0720 - accuracy: 0.4051 - val_loss: 1.0747 - val_accuracy: 0.4035\n"
     ]
    }
   ],
   "source": [
    "# Design RNN\n",
    "model = Sequential()\n",
    "model.add(GRU(32,\n",
    "             input_dim=X.shape[1],\n",
    "             return_sequences=True)) # True if next layer is RNN\n",
    "model.add(GRU(16,return_sequences=False)) # False if next layer is Dense\n",
    "model.add(Dense(8, activation='relu'))\n",
    "model.add(Dense(4, activation='relu'))\n",
    "# output layer\n",
    "model.add(Dense(3, activation='softmax'))\n",
    "model.compile(loss='categorical_crossentropy', optimizer=Adam(),\n",
    "              metrics = ['accuracy'])\n",
    "hist = model.fit(train_seq,\n",
    "                epochs=10,\n",
    "                validation_data=test_seq)\n"
   ]
  },
  {
   "cell_type": "code",
   "execution_count": 33,
   "metadata": {
    "ExecuteTime": {
     "end_time": "2020-06-04T20:19:56.685394Z",
     "start_time": "2020-06-04T20:19:55.518344Z"
    }
   },
   "outputs": [
    {
     "data": {
      "image/png": "[encoded data removed]",
      "text/plain": [
       "<Figure size 432x288 with 1 Axes>"
      ]
     },
     "metadata": {
      "needs_background": "light"
     },
     "output_type": "display_data"
    },
    {
     "data": {
      "image/png": "[encoded data removed]",
      "text/plain": [
       "<Figure size 432x288 with 1 Axes>"
      ]
     },
     "metadata": {
      "needs_background": "light"
     },
     "output_type": "display_data"
    }
   ],
   "source": [
    "plt.plot(hist.history['accuracy'], label = 'Train Accuracy')\n",
    "plt.plot(hist.history['val_accuracy'], label = 'Test Accuracy')\n",
    "\n",
    "plt.title(label = f'acc ', fontsize=16)\n",
    "plt.show()\n",
    "# plt.savefig(f'./charts/rnn/acc/{company}.png', bbox_inches='tight')\n",
    "# plt.savefig(f'./charts/rnn/acc/{company}t.png', transparent=True)\n",
    "\n",
    "\n",
    "plt.plot(hist.history['loss'], label = 'Train Loss')\n",
    "plt.plot(hist.history['val_loss'], label = 'Test Loss')\n",
    "plt.title(label = f'loss ', fontsize=16)\n",
    "plt.legend()\n",
    "plt.show()\n",
    "# plt.savefig(f'./charts/rnn/loss/{company}.png', bbox_inches='tight')\n",
    "# plt.savefig(f'./charts/rnn/loss/{company}t.png', transparent=True)"
   ]
  },
  {
   "cell_type": "code",
   "execution_count": 30,
   "metadata": {
    "ExecuteTime": {
     "end_time": "2020-06-03T20:12:50.710938Z",
     "start_time": "2020-06-03T20:12:50.098620Z"
    }
   },
   "outputs": [
    {
     "data": {
      "text/plain": [
       "array([0, 0, 0, ..., 2, 2, 2])"
      ]
     },
     "execution_count": 30,
     "metadata": {},
     "output_type": "execute_result"
    }
   ],
   "source": [
    "preds = model.predict_classes(test_seq)\n",
    "\n",
    "preds.sort()\n",
    "\n",
    "preds"
   ]
  },
  {
   "cell_type": "code",
   "execution_count": 36,
   "metadata": {
    "ExecuteTime": {
     "end_time": "2020-06-03T00:02:02.756881Z",
     "start_time": "2020-06-03T00:02:02.750875Z"
    }
   },
   "outputs": [
    {
     "data": {
      "text/plain": [
       "338"
      ]
     },
     "execution_count": 36,
     "metadata": {},
     "output_type": "execute_result"
    }
   ],
   "source": [
    "preds.sum()"
   ]
  },
  {
   "cell_type": "code",
   "execution_count": 37,
   "metadata": {
    "ExecuteTime": {
     "end_time": "2020-06-03T00:02:08.270614Z",
     "start_time": "2020-06-03T00:02:08.266550Z"
    }
   },
   "outputs": [
    {
     "data": {
      "text/plain": [
       "2576233"
      ]
     },
     "execution_count": 37,
     "metadata": {},
     "output_type": "execute_result"
    }
   ],
   "source": [
    "len(preds)"
   ]
  },
  {
   "cell_type": "code",
   "execution_count": 31,
   "metadata": {
    "ExecuteTime": {
     "end_time": "2020-06-03T20:12:53.701041Z",
     "start_time": "2020-06-03T20:12:53.696787Z"
    }
   },
   "outputs": [
    {
     "name": "stdout",
     "output_type": "stream",
     "text": [
      "[[    0     1     2]\n",
      " [11074  1056 15143]]\n"
     ]
    }
   ],
   "source": [
    "unique_elements, counts_elements = np.unique(preds, return_counts=True)\n",
    "print(np.asarray((unique_elements, counts_elements)))"
   ]
  },
  {
   "cell_type": "code",
   "execution_count": 12,
   "metadata": {
    "ExecuteTime": {
     "end_time": "2020-06-03T19:54:43.035255Z",
     "start_time": "2020-06-03T19:54:42.845177Z"
    }
   },
   "outputs": [
    {
     "name": "stdout",
     "output_type": "stream",
     "text": [
      "[[0.000000e+00 1.000000e+00]\n",
      " [5.152496e+06 2.576248e+06]]\n"
     ]
    }
   ],
   "source": [
    "unique_elements, counts_elements = np.unique(y_test, return_counts=True)\n",
    "print(np.asarray((unique_elements, counts_elements)))"
   ]
  },
  {
   "cell_type": "code",
   "execution_count": 13,
   "metadata": {
    "ExecuteTime": {
     "end_time": "2020-06-03T19:55:01.381643Z",
     "start_time": "2020-06-03T19:55:00.197919Z"
    }
   },
   "outputs": [
    {
     "name": "stdout",
     "output_type": "stream",
     "text": [
      "[[0.0000000e+00 1.0000000e+00]\n",
      " [2.0609978e+07 1.0304989e+07]]\n"
     ]
    }
   ],
   "source": [
    "unique_elements, counts_elements = np.unique(y, return_counts=True)\n",
    "print(np.asarray((unique_elements, counts_elements)))"
   ]
  },
  {
   "cell_type": "code",
   "execution_count": null,
   "metadata": {},
   "outputs": [],
   "source": [
    "with open(f'./models/rnn/{company}rnn_notweets.pkl', 'wb') as pickle_out:\n",
    "    pickle.dump(model, pickle_out)"
   ]
  },
  {
   "cell_type": "code",
   "execution_count": 32,
   "metadata": {
    "ExecuteTime": {
     "end_time": "2020-06-03T20:13:11.250292Z",
     "start_time": "2020-06-03T20:13:11.244048Z"
    }
   },
   "outputs": [
    {
     "data": {
      "text/plain": [
       "2    41233\n",
       "0    40789\n",
       "1    27089\n",
       "Name: target, dtype: int64"
      ]
     },
     "execution_count": 32,
     "metadata": {},
     "output_type": "execute_result"
    }
   ],
   "source": [
    "df['target'].value_counts()"
   ]
  },
  {
   "cell_type": "code",
   "execution_count": 17,
   "metadata": {
    "ExecuteTime": {
     "end_time": "2020-06-03T19:55:51.170584Z",
     "start_time": "2020-06-03T19:55:51.164552Z"
    }
   },
   "outputs": [
    {
     "data": {
      "text/plain": [
       "array([[0., 1., 0.],\n",
       "       [0., 1., 0.],\n",
       "       [0., 1., 0.],\n",
       "       ...,\n",
       "       [0., 1., 0.],\n",
       "       [0., 1., 0.],\n",
       "       [0., 0., 1.]], dtype=float32)"
      ]
     },
     "execution_count": 17,
     "metadata": {},
     "output_type": "execute_result"
    }
   ],
   "source": [
    "y"
   ]
  },
  {
   "cell_type": "code",
   "execution_count": null,
   "metadata": {},
   "outputs": [],
   "source": []
  }
 ],
 "metadata": {
  "kernelspec": {
   "display_name": "Python 3",
   "language": "python",
   "name": "python3"
  },
  "language_info": {
   "codemirror_mode": {
    "name": "ipython",
    "version": 3
   },
   "file_extension": ".py",
   "mimetype": "text/x-python",
   "name": "python",
   "nbconvert_exporter": "python",
   "pygments_lexer": "ipython3",
   "version": "3.7.6"
  }
 },
 "nbformat": 4,
 "nbformat_minor": 4
}
