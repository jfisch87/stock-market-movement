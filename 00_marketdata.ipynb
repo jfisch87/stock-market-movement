{
 "cells": [
  {
   "cell_type": "code",
   "execution_count": null,
   "metadata": {},
   "outputs": [],
   "source": []
  },
  {
   "cell_type": "code",
   "execution_count": 75,
   "metadata": {
    "ExecuteTime": {
     "end_time": "2020-05-13T05:38:12.518098Z",
     "start_time": "2020-05-13T05:38:12.497352Z"
    }
   },
   "outputs": [],
   "source": [
    "import requests\n",
    "import time\n",
    "import pandas as pd\n",
    "import os"
   ]
  },
  {
   "cell_type": "code",
   "execution_count": null,
   "metadata": {},
   "outputs": [],
   "source": []
  },
  {
   "cell_type": "code",
   "execution_count": 47,
   "metadata": {
    "ExecuteTime": {
     "end_time": "2020-05-13T04:30:58.987349Z",
     "start_time": "2020-05-13T04:30:58.983796Z"
    }
   },
   "outputs": [],
   "source": [
    "# Get list of djia tickers\n",
    "dow = ['mmm', 'axp', 'aapl', 'ba', 'cat', 'cvx', 'csco', 'ko', 'dow', 'xom', 'gs', 'hd', 'ibm',\n",
    "      'intc', 'jnj', 'jpm', 'mcd', 'mrk', 'msft', 'nke', 'pfe', 'pg', 'rtx', 'trv', 'unh',\n",
    "      'vz', 'v', 'wmt', 'wba', 'dis']\n"
   ]
  },
  {
   "cell_type": "code",
   "execution_count": 17,
   "metadata": {
    "ExecuteTime": {
     "end_time": "2020-05-13T04:17:16.602945Z",
     "start_time": "2020-05-13T04:17:16.599608Z"
    }
   },
   "outputs": [],
   "source": [
    "key = 'XM9DAWJLXUGZAO5A'\n",
    "base_url = \"https://www.alphavantage.co/query\" \n",
    "sym = ''\n"
   ]
  },
  {
   "cell_type": "code",
   "execution_count": 29,
   "metadata": {
    "ExecuteTime": {
     "end_time": "2020-05-13T04:21:06.452457Z",
     "start_time": "2020-05-13T04:21:05.677191Z"
    }
   },
   "outputs": [
    {
     "data": {
      "text/plain": [
       "<Response [200]>"
      ]
     },
     "execution_count": 29,
     "metadata": {},
     "output_type": "execute_result"
    }
   ],
   "source": [
    "sym = 'BA'\n",
    "res = requests.get(base_url,\n",
    "                  params={\n",
    "    'function' : 'TIME_SERIES_INTRADAY',\n",
    "    'symbol' : sym,\n",
    "    'interval' : '1min',\n",
    "    'outputsize' : 'full',\n",
    "    'apikey' : key\n",
    "})\n",
    "res"
   ]
  },
  {
   "cell_type": "code",
   "execution_count": 55,
   "metadata": {
    "ExecuteTime": {
     "end_time": "2020-05-13T04:38:12.897849Z",
     "start_time": "2020-05-13T04:37:10.983467Z"
    }
   },
   "outputs": [
    {
     "name": "stdout",
     "output_type": "stream",
     "text": [
      "Successfully pulled mmm data\n",
      "output mmm to csv\n",
      "Successfully pulled axp data\n",
      "output axp to csv\n"
     ]
    }
   ],
   "source": [
    "for sym in dow[:2]:\n",
    "    successful = False\n",
    "    while not successful:\n",
    "        res = requests.get(base_url,\n",
    "                      params={\n",
    "        'function' : 'TIME_SERIES_INTRADAY',\n",
    "        'symbol' : sym.upper(),\n",
    "        'interval' : '1min',\n",
    "        'outputsize' : 'full',\n",
    "        'apikey' : key})\n",
    "        if res.status_code == 200:\n",
    "            print(f'Successfully pulled {sym} data')\n",
    "            successful = True\n",
    "        else:\n",
    "            print(f'trying to get {sym} again')\n",
    "            print(res)\n",
    "            time.sleep(5)\n",
    "    stock = res.json()\n",
    "    df = pd.DataFrame(stock['Time Series (1min)']).T\n",
    "    df.to_csv(f'./datasets/dow/{sym}.csv')\n",
    "    print(f'output {sym} to csv')\n",
    "    time.sleep(30)\n",
    "    "
   ]
  },
  {
   "cell_type": "code",
   "execution_count": 31,
   "metadata": {
    "ExecuteTime": {
     "end_time": "2020-05-13T04:21:09.133636Z",
     "start_time": "2020-05-13T04:21:09.126664Z"
    }
   },
   "outputs": [],
   "source": [
    "aapl = res.json()b"
   ]
  },
  {
   "cell_type": "code",
   "execution_count": 44,
   "metadata": {
    "ExecuteTime": {
     "end_time": "2020-05-13T04:26:39.754441Z",
     "start_time": "2020-05-13T04:26:39.617723Z"
    }
   },
   "outputs": [],
   "source": [
    "df = pd.DataFrame(aapl['Time Series (1min)']).T\n",
    "df.to_csv('./asdfasdf.csv')"
   ]
  },
  {
   "cell_type": "code",
   "execution_count": 45,
   "metadata": {
    "ExecuteTime": {
     "end_time": "2020-05-13T04:26:40.266771Z",
     "start_time": "2020-05-13T04:26:40.252566Z"
    }
   },
   "outputs": [
    {
     "data": {
      "text/html": [
       "<div>\n",
       "<style scoped>\n",
       "    .dataframe tbody tr th:only-of-type {\n",
       "        vertical-align: middle;\n",
       "    }\n",
       "\n",
       "    .dataframe tbody tr th {\n",
       "        vertical-align: top;\n",
       "    }\n",
       "\n",
       "    .dataframe thead th {\n",
       "        text-align: right;\n",
       "    }\n",
       "</style>\n",
       "<table border=\"1\" class=\"dataframe\">\n",
       "  <thead>\n",
       "    <tr style=\"text-align: right;\">\n",
       "      <th></th>\n",
       "      <th>Unnamed: 0</th>\n",
       "      <th>1. open</th>\n",
       "      <th>2. high</th>\n",
       "      <th>3. low</th>\n",
       "      <th>4. close</th>\n",
       "      <th>5. volume</th>\n",
       "    </tr>\n",
       "  </thead>\n",
       "  <tbody>\n",
       "    <tr>\n",
       "      <th>0</th>\n",
       "      <td>2020-05-12 16:00:00</td>\n",
       "      <td>125.4100</td>\n",
       "      <td>125.4900</td>\n",
       "      <td>125.1989</td>\n",
       "      <td>125.2400</td>\n",
       "      <td>205315</td>\n",
       "    </tr>\n",
       "    <tr>\n",
       "      <th>1</th>\n",
       "      <td>2020-05-12 15:59:00</td>\n",
       "      <td>125.3699</td>\n",
       "      <td>125.4100</td>\n",
       "      <td>125.2200</td>\n",
       "      <td>125.4000</td>\n",
       "      <td>116870</td>\n",
       "    </tr>\n",
       "    <tr>\n",
       "      <th>2</th>\n",
       "      <td>2020-05-12 15:58:00</td>\n",
       "      <td>125.5300</td>\n",
       "      <td>125.5521</td>\n",
       "      <td>125.3200</td>\n",
       "      <td>125.3642</td>\n",
       "      <td>114510</td>\n",
       "    </tr>\n",
       "    <tr>\n",
       "      <th>3</th>\n",
       "      <td>2020-05-12 15:57:00</td>\n",
       "      <td>125.7100</td>\n",
       "      <td>125.7500</td>\n",
       "      <td>125.5200</td>\n",
       "      <td>125.5200</td>\n",
       "      <td>72085</td>\n",
       "    </tr>\n",
       "    <tr>\n",
       "      <th>4</th>\n",
       "      <td>2020-05-12 15:56:00</td>\n",
       "      <td>125.7400</td>\n",
       "      <td>125.8200</td>\n",
       "      <td>125.6667</td>\n",
       "      <td>125.7100</td>\n",
       "      <td>62458</td>\n",
       "    </tr>\n",
       "  </tbody>\n",
       "</table>\n",
       "</div>"
      ],
      "text/plain": [
       "            Unnamed: 0   1. open   2. high    3. low  4. close  5. volume\n",
       "0  2020-05-12 16:00:00  125.4100  125.4900  125.1989  125.2400     205315\n",
       "1  2020-05-12 15:59:00  125.3699  125.4100  125.2200  125.4000     116870\n",
       "2  2020-05-12 15:58:00  125.5300  125.5521  125.3200  125.3642     114510\n",
       "3  2020-05-12 15:57:00  125.7100  125.7500  125.5200  125.5200      72085\n",
       "4  2020-05-12 15:56:00  125.7400  125.8200  125.6667  125.7100      62458"
      ]
     },
     "execution_count": 45,
     "metadata": {},
     "output_type": "execute_result"
    }
   ],
   "source": [
    "pd.read_csv('./asdfasdf.csv').head()"
   ]
  },
  {
   "cell_type": "code",
   "execution_count": 59,
   "metadata": {
    "ExecuteTime": {
     "end_time": "2020-05-13T04:39:39.291968Z",
     "start_time": "2020-05-13T04:39:39.282375Z"
    }
   },
   "outputs": [
    {
     "data": {
      "text/html": [
       "<div>\n",
       "<style scoped>\n",
       "    .dataframe tbody tr th:only-of-type {\n",
       "        vertical-align: middle;\n",
       "    }\n",
       "\n",
       "    .dataframe tbody tr th {\n",
       "        vertical-align: top;\n",
       "    }\n",
       "\n",
       "    .dataframe thead th {\n",
       "        text-align: right;\n",
       "    }\n",
       "</style>\n",
       "<table border=\"1\" class=\"dataframe\">\n",
       "  <thead>\n",
       "    <tr style=\"text-align: right;\">\n",
       "      <th></th>\n",
       "      <th>1. open</th>\n",
       "      <th>2. high</th>\n",
       "      <th>3. low</th>\n",
       "      <th>4. close</th>\n",
       "      <th>5. volume</th>\n",
       "    </tr>\n",
       "  </thead>\n",
       "  <tbody>\n",
       "    <tr>\n",
       "      <th>2020-05-06 09:36:00</th>\n",
       "      <td>87.1400</td>\n",
       "      <td>87.3000</td>\n",
       "      <td>87.1100</td>\n",
       "      <td>87.2000</td>\n",
       "      <td>20441</td>\n",
       "    </tr>\n",
       "    <tr>\n",
       "      <th>2020-05-06 09:34:00</th>\n",
       "      <td>87.6300</td>\n",
       "      <td>87.7600</td>\n",
       "      <td>87.4300</td>\n",
       "      <td>87.4418</td>\n",
       "      <td>17621</td>\n",
       "    </tr>\n",
       "    <tr>\n",
       "      <th>2020-05-06 09:33:00</th>\n",
       "      <td>87.4900</td>\n",
       "      <td>87.7500</td>\n",
       "      <td>87.3900</td>\n",
       "      <td>87.6250</td>\n",
       "      <td>10303</td>\n",
       "    </tr>\n",
       "    <tr>\n",
       "      <th>2020-05-06 09:32:00</th>\n",
       "      <td>87.3542</td>\n",
       "      <td>87.4700</td>\n",
       "      <td>87.3542</td>\n",
       "      <td>87.4450</td>\n",
       "      <td>7927</td>\n",
       "    </tr>\n",
       "    <tr>\n",
       "      <th>2020-05-06 09:31:00</th>\n",
       "      <td>87.4900</td>\n",
       "      <td>87.6900</td>\n",
       "      <td>87.2500</td>\n",
       "      <td>87.3600</td>\n",
       "      <td>54088</td>\n",
       "    </tr>\n",
       "  </tbody>\n",
       "</table>\n",
       "</div>"
      ],
      "text/plain": [
       "                     1. open  2. high   3. low 4. close 5. volume\n",
       "2020-05-06 09:36:00  87.1400  87.3000  87.1100  87.2000     20441\n",
       "2020-05-06 09:34:00  87.6300  87.7600  87.4300  87.4418     17621\n",
       "2020-05-06 09:33:00  87.4900  87.7500  87.3900  87.6250     10303\n",
       "2020-05-06 09:32:00  87.3542  87.4700  87.3542  87.4450      7927\n",
       "2020-05-06 09:31:00  87.4900  87.6900  87.2500  87.3600     54088"
      ]
     },
     "execution_count": 59,
     "metadata": {},
     "output_type": "execute_result"
    }
   ],
   "source": [
    "df.tail()"
   ]
  },
  {
   "cell_type": "code",
   "execution_count": null,
   "metadata": {},
   "outputs": [],
   "source": []
  },
  {
   "cell_type": "code",
   "execution_count": null,
   "metadata": {},
   "outputs": [],
   "source": []
  },
  {
   "cell_type": "code",
   "execution_count": 53,
   "metadata": {
    "ExecuteTime": {
     "end_time": "2020-05-13T04:33:34.247373Z",
     "start_time": "2020-05-13T04:33:34.244559Z"
    }
   },
   "outputs": [
    {
     "data": {
      "text/plain": [
       "200"
      ]
     },
     "execution_count": 53,
     "metadata": {},
     "output_type": "execute_result"
    }
   ],
   "source": [
    "res.status_code"
   ]
  },
  {
   "cell_type": "code",
   "execution_count": 85,
   "metadata": {
    "ExecuteTime": {
     "end_time": "2020-05-13T05:46:05.948114Z",
     "start_time": "2020-05-13T05:46:05.628280Z"
    }
   },
   "outputs": [],
   "source": [
    "df2 = pd.read_csv('./datasets/russia site/aapl.csv')"
   ]
  },
  {
   "cell_type": "code",
   "execution_count": 78,
   "metadata": {
    "ExecuteTime": {
     "end_time": "2020-05-13T05:44:13.955864Z",
     "start_time": "2020-05-13T05:44:13.934105Z"
    }
   },
   "outputs": [
    {
     "data": {
      "text/html": [
       "<div>\n",
       "<style scoped>\n",
       "    .dataframe tbody tr th:only-of-type {\n",
       "        vertical-align: middle;\n",
       "    }\n",
       "\n",
       "    .dataframe tbody tr th {\n",
       "        vertical-align: top;\n",
       "    }\n",
       "\n",
       "    .dataframe thead th {\n",
       "        text-align: right;\n",
       "    }\n",
       "</style>\n",
       "<table border=\"1\" class=\"dataframe\">\n",
       "  <thead>\n",
       "    <tr style=\"text-align: right;\">\n",
       "      <th></th>\n",
       "      <th>&lt;DATE&gt;</th>\n",
       "      <th>&lt;TIME&gt;</th>\n",
       "      <th>&lt;LAST&gt;</th>\n",
       "      <th>&lt;VOL&gt;</th>\n",
       "    </tr>\n",
       "  </thead>\n",
       "  <tbody>\n",
       "    <tr>\n",
       "      <th>0</th>\n",
       "      <td>20190903</td>\n",
       "      <td>93001</td>\n",
       "      <td>206.21</td>\n",
       "      <td>200</td>\n",
       "    </tr>\n",
       "    <tr>\n",
       "      <th>5679</th>\n",
       "      <td>20190903</td>\n",
       "      <td>132836</td>\n",
       "      <td>204.88</td>\n",
       "      <td>100</td>\n",
       "    </tr>\n",
       "    <tr>\n",
       "      <th>5678</th>\n",
       "      <td>20190903</td>\n",
       "      <td>132812</td>\n",
       "      <td>204.90</td>\n",
       "      <td>100</td>\n",
       "    </tr>\n",
       "    <tr>\n",
       "      <th>5677</th>\n",
       "      <td>20190903</td>\n",
       "      <td>132808</td>\n",
       "      <td>204.91</td>\n",
       "      <td>100</td>\n",
       "    </tr>\n",
       "    <tr>\n",
       "      <th>5676</th>\n",
       "      <td>20190903</td>\n",
       "      <td>132807</td>\n",
       "      <td>204.91</td>\n",
       "      <td>300</td>\n",
       "    </tr>\n",
       "  </tbody>\n",
       "</table>\n",
       "</div>"
      ],
      "text/plain": [
       "        <DATE>  <TIME>  <LAST>  <VOL>\n",
       "0     20190903   93001  206.21    200\n",
       "5679  20190903  132836  204.88    100\n",
       "5678  20190903  132812  204.90    100\n",
       "5677  20190903  132808  204.91    100\n",
       "5676  20190903  132807  204.91    300"
      ]
     },
     "execution_count": 78,
     "metadata": {},
     "output_type": "execute_result"
    }
   ],
   "source": [
    "df2.drop(columns=['<PER>','<TICKER>']).head()"
   ]
  },
  {
   "cell_type": "code",
   "execution_count": 77,
   "metadata": {
    "ExecuteTime": {
     "end_time": "2020-05-13T05:43:53.887174Z",
     "start_time": "2020-05-13T05:43:53.871724Z"
    }
   },
   "outputs": [
    {
     "data": {
      "text/plain": [
       "0    779963\n",
       "Name: <PER>, dtype: int64"
      ]
     },
     "execution_count": 77,
     "metadata": {},
     "output_type": "execute_result"
    }
   ],
   "source": [
    "df2['<PER>'].value_counts()"
   ]
  },
  {
   "cell_type": "code",
   "execution_count": 71,
   "metadata": {
    "ExecuteTime": {
     "end_time": "2020-05-13T04:48:11.304438Z",
     "start_time": "2020-05-13T04:48:11.249566Z"
    }
   },
   "outputs": [],
   "source": [
    "df2.sort_values('<DATE>', inplace=True)"
   ]
  },
  {
   "cell_type": "code",
   "execution_count": 74,
   "metadata": {
    "ExecuteTime": {
     "end_time": "2020-05-13T04:48:32.250793Z",
     "start_time": "2020-05-13T04:48:32.140833Z"
    }
   },
   "outputs": [
    {
     "data": {
      "text/html": [
       "<div>\n",
       "<style scoped>\n",
       "    .dataframe tbody tr th:only-of-type {\n",
       "        vertical-align: middle;\n",
       "    }\n",
       "\n",
       "    .dataframe tbody tr th {\n",
       "        vertical-align: top;\n",
       "    }\n",
       "\n",
       "    .dataframe thead th {\n",
       "        text-align: right;\n",
       "    }\n",
       "</style>\n",
       "<table border=\"1\" class=\"dataframe\">\n",
       "  <thead>\n",
       "    <tr style=\"text-align: right;\">\n",
       "      <th></th>\n",
       "      <th>&lt;PER&gt;</th>\n",
       "      <th>&lt;DATE&gt;</th>\n",
       "      <th>&lt;TIME&gt;</th>\n",
       "      <th>&lt;LAST&gt;</th>\n",
       "      <th>&lt;VOL&gt;</th>\n",
       "    </tr>\n",
       "  </thead>\n",
       "  <tbody>\n",
       "    <tr>\n",
       "      <th>count</th>\n",
       "      <td>779963.0</td>\n",
       "      <td>7.799630e+05</td>\n",
       "      <td>779963.000000</td>\n",
       "      <td>779963.000000</td>\n",
       "      <td>779963.000000</td>\n",
       "    </tr>\n",
       "    <tr>\n",
       "      <th>mean</th>\n",
       "      <td>0.0</td>\n",
       "      <td>2.019105e+07</td>\n",
       "      <td>122680.809936</td>\n",
       "      <td>245.950366</td>\n",
       "      <td>147.411407</td>\n",
       "    </tr>\n",
       "    <tr>\n",
       "      <th>std</th>\n",
       "      <td>0.0</td>\n",
       "      <td>1.096228e+02</td>\n",
       "      <td>21691.178017</td>\n",
       "      <td>23.983664</td>\n",
       "      <td>164.078818</td>\n",
       "    </tr>\n",
       "    <tr>\n",
       "      <th>min</th>\n",
       "      <td>0.0</td>\n",
       "      <td>2.019090e+07</td>\n",
       "      <td>93000.000000</td>\n",
       "      <td>204.230000</td>\n",
       "      <td>100.000000</td>\n",
       "    </tr>\n",
       "    <tr>\n",
       "      <th>25%</th>\n",
       "      <td>0.0</td>\n",
       "      <td>2.019093e+07</td>\n",
       "      <td>102600.000000</td>\n",
       "      <td>222.090000</td>\n",
       "      <td>100.000000</td>\n",
       "    </tr>\n",
       "    <tr>\n",
       "      <th>50%</th>\n",
       "      <td>0.0</td>\n",
       "      <td>2.019103e+07</td>\n",
       "      <td>120724.000000</td>\n",
       "      <td>244.220000</td>\n",
       "      <td>100.000000</td>\n",
       "    </tr>\n",
       "    <tr>\n",
       "      <th>75%</th>\n",
       "      <td>0.0</td>\n",
       "      <td>2.019112e+07</td>\n",
       "      <td>143512.000000</td>\n",
       "      <td>264.250000</td>\n",
       "      <td>180.000000</td>\n",
       "    </tr>\n",
       "    <tr>\n",
       "      <th>max</th>\n",
       "      <td>0.0</td>\n",
       "      <td>2.019123e+07</td>\n",
       "      <td>155959.000000</td>\n",
       "      <td>293.950000</td>\n",
       "      <td>19000.000000</td>\n",
       "    </tr>\n",
       "  </tbody>\n",
       "</table>\n",
       "</div>"
      ],
      "text/plain": [
       "          <PER>        <DATE>         <TIME>         <LAST>          <VOL>\n",
       "count  779963.0  7.799630e+05  779963.000000  779963.000000  779963.000000\n",
       "mean        0.0  2.019105e+07  122680.809936     245.950366     147.411407\n",
       "std         0.0  1.096228e+02   21691.178017      23.983664     164.078818\n",
       "min         0.0  2.019090e+07   93000.000000     204.230000     100.000000\n",
       "25%         0.0  2.019093e+07  102600.000000     222.090000     100.000000\n",
       "50%         0.0  2.019103e+07  120724.000000     244.220000     100.000000\n",
       "75%         0.0  2.019112e+07  143512.000000     264.250000     180.000000\n",
       "max         0.0  2.019123e+07  155959.000000     293.950000   19000.000000"
      ]
     },
     "execution_count": 74,
     "metadata": {},
     "output_type": "execute_result"
    }
   ],
   "source": [
    "df2.describe()"
   ]
  },
  {
   "cell_type": "markdown",
   "metadata": {
    "ExecuteTime": {
     "end_time": "2020-05-13T05:44:51.043334Z",
     "start_time": "2020-05-13T05:44:51.029537Z"
    }
   },
   "source": [
    "https://www.finam.ru/profile/akcii-usa-bats/united-technologies/export/?market=25&em=18134&token=03AGdBq26R5oYsaVJ7QZMxHCfVrppyq7nlA71Irgcsrpob_UH7svIif7RzoRXw-qYD0ePNpdUvBpjv9DPKuJ4oMCyZ8d72rlRSXlZJxEUw62eVdvK1IPAg-8gEapI_g6Ou3xpdrs-497L7mGmJnplVhaOd7_ZxpVrTXFB_X-g5zpwHkz_2X49qfVMz3UqpcuXbVcnDiXeBoHWKMHxHUFIkGh-TdUvewDnvFIZgMJ7K1EsXjJCA-EOUHmvCYrpqrG03CMRXnhhVXwnaiSF1MRqSaZugbaUPzL6PgowRw8aY8NwVRkK4toG2vrnxMP_SigIfhdzz5JH17DITkvC17Lpxxjc9xhj4JuLnD28MSsus8LbGcsSyG68RlO61tkNMcI2kQTL0Odql1FIh8CEJpGE6uc9EsxMh0wXiBOQANDkgbAVQISTQQ-veXdGd_7VpZBdfVFgx-j2epsGh&code=UTX&apply=0&df=3&mf=8&yf=2019&from=03.09.2019&dt=31&mt=11&yt=2019&to=31.12.2019&p=1&f=UTX_190903_191231&e=.txt&cn=UTX&dtf=1&tmf=1&MSOR=1&mstimever=0&sep=1&sep2=1&datf=6&at=1"
   ]
  },
  {
   "cell_type": "code",
   "execution_count": 134,
   "metadata": {
    "ExecuteTime": {
     "end_time": "2020-05-13T06:12:34.833228Z",
     "start_time": "2020-05-13T06:12:34.828754Z"
    }
   },
   "outputs": [],
   "source": [
    "def clean_ru_data(df):\n",
    "    new_col_names= {\n",
    "        '<TICKER>' : 'ticker',\n",
    "        '<DATE>' : 'date',\n",
    "        '<TIME>' : 'time',\n",
    "        '<LAST>' : 'price',\n",
    "        '<VOL>' : 'vol'\n",
    "    }\n",
    "    df.rename(columns=new_col_names, inplace=True)\n",
    "    df['ticker'] = df['ticker'].str.lower()\n",
    "    df['ticker'] = df['ticker'].str.replace('us1.','')\n",
    "    df['date_time'] = df['date'].astype(str) + df['time'].astype(str)\n",
    "    df['date_time'] = pd.to_datetime(df['date_time'], format='%Y%m%d%H%M%S')\n",
    "    df = df.drop(columns='<PER>')\n",
    "    return df"
   ]
  },
  {
   "cell_type": "code",
   "execution_count": 141,
   "metadata": {
    "ExecuteTime": {
     "end_time": "2020-05-13T06:28:22.479643Z",
     "start_time": "2020-05-13T06:27:20.555149Z"
    }
   },
   "outputs": [
    {
     "name": "stdout",
     "output_type": "stream",
     "text": [
      "cleaned and output: csco.csv.  1/31\n",
      "cleaned and output: ba.csv.  2/31\n",
      "cleaned and output: v.csv.  3/31\n",
      "cleaned and output: wba.csv.  4/31\n",
      "cleaned and output: utx.csv.  5/31\n",
      "cleaned and output: mrk.csv.  6/31\n",
      "cleaned and output: pg.csv.  7/31\n",
      "cleaned and output: cat.csv.  8/31\n",
      "cleaned and output: mcd.csv.  9/31\n",
      "cleaned and output: intc.csv.  10/31\n",
      "cleaned and output: mmm.csv.  11/31\n",
      "cleaned and output: ko.csv.  12/31\n",
      "cleaned and output: msft.csv.  13/31\n",
      "cleaned and output: hd.csv.  14/31\n",
      "cleaned and output: axp.csv.  15/31\n",
      "cleaned and output: xom.csv.  16/31\n",
      "cleaned and output: cvx.csv.  17/31\n",
      "cleaned and output: nke.csv.  18/31\n",
      "cleaned and output: ibm.csv.  19/31\n",
      "cleaned and output: gs.csv.  20/31\n",
      "cleaned and output: dis.csv.  21/31\n",
      "cleaned and output: jpm.csv.  22/31\n",
      "cleaned and output: pfe.csv.  23/31\n",
      "cleaned and output: vz.csv.  24/31\n",
      "cleaned and output: unh.csv.  25/31\n",
      "cleaned and output: aapl.csv.  26/31\n",
      "cleaned and output: wmt.csv.  27/31\n",
      "cleaned and output: rtn.txt.  28/31\n",
      "cleaned and output: trv.csv.  29/31\n",
      "cleaned and output: dow.csv.  30/31\n",
      "cleaned and output: jnj.csv.  31/31\n"
     ]
    }
   ],
   "source": [
    "files = os.listdir('./datasets/russia site/dirty')\n",
    "count = 0\n",
    "for file in files:\n",
    "    df = pd.read_csv(f'./datasets/russia site/dirty/{file}')\n",
    "    df = clean_ru_data(df)\n",
    "    df.to_csv(f'./datasets/russia site/cleaned/{file}', index=False)\n",
    "    count += 1\n",
    "    print(f'cleaned and output: {file}.  {count}/31')"
   ]
  },
  {
   "cell_type": "code",
   "execution_count": 143,
   "metadata": {
    "ExecuteTime": {
     "end_time": "2020-05-13T06:33:21.554678Z",
     "start_time": "2020-05-13T06:33:16.518546Z"
    }
   },
   "outputs": [
    {
     "name": "stdout",
     "output_type": "stream",
     "text": [
      "csco.csv has 529731 rows\n",
      "ba.csv has 163959 rows\n",
      "v.csv has 229903 rows\n",
      "wba.csv has 172138 rows\n",
      "utx.csv has 102566 rows\n",
      ".DS_Store has 0 rows\n",
      "mrk.csv has 231154 rows\n",
      "pg.csv has 214950 rows\n",
      "cat.csv has 163378 rows\n",
      "mcd.csv has 141648 rows\n",
      "intc.csv has 637904 rows\n",
      "mmm.csv has 101162 rows\n",
      "ko.csv has 262028 rows\n",
      "msft.csv has 714627 rows\n",
      "hd.csv has 152153 rows\n",
      "axp.csv has 113998 rows\n",
      "xom.csv has 256359 rows\n",
      "cvx.csv has 189222 rows\n",
      "nke.csv has 229864 rows\n",
      "ibm.csv has 138904 rows\n",
      "gs.csv has 109171 rows\n",
      "dis.csv has 333064 rows\n",
      "jpm.csv has 425754 rows\n",
      "pfe.csv has 343348 rows\n",
      "vz.csv has 295857 rows\n",
      "unh.csv has 142758 rows\n",
      "aapl.csv has 779963 rows\n",
      "wmt.csv has 175803 rows\n",
      "rtn.txt has 30405 rows\n",
      "trv.csv has 45818 rows\n",
      "dow.csv has 51048 rows\n",
      "jnj.csv has 230853 rows\n"
     ]
    }
   ],
   "source": [
    "files = os.listdir('./datasets/russia site/cleaned')\n",
    "count = 0\n",
    "for file in files:\n",
    "    df = pd.read_csv(f'./datasets/russia site/cleaned/{file}')\n",
    "    print(f'{file} has {df.shape[0]} rows')"
   ]
  },
  {
   "cell_type": "code",
   "execution_count": 139,
   "metadata": {
    "ExecuteTime": {
     "end_time": "2020-05-13T06:21:02.171219Z",
     "start_time": "2020-05-13T06:21:02.143570Z"
    }
   },
   "outputs": [
    {
     "data": {
      "text/html": [
       "<div>\n",
       "<style scoped>\n",
       "    .dataframe tbody tr th:only-of-type {\n",
       "        vertical-align: middle;\n",
       "    }\n",
       "\n",
       "    .dataframe tbody tr th {\n",
       "        vertical-align: top;\n",
       "    }\n",
       "\n",
       "    .dataframe thead th {\n",
       "        text-align: right;\n",
       "    }\n",
       "</style>\n",
       "<table border=\"1\" class=\"dataframe\">\n",
       "  <thead>\n",
       "    <tr style=\"text-align: right;\">\n",
       "      <th></th>\n",
       "      <th>&lt;TICKER&gt;</th>\n",
       "      <th>&lt;PER&gt;</th>\n",
       "      <th>&lt;DATE&gt;</th>\n",
       "      <th>&lt;TIME&gt;</th>\n",
       "      <th>&lt;LAST&gt;</th>\n",
       "      <th>&lt;VOL&gt;</th>\n",
       "    </tr>\n",
       "  </thead>\n",
       "  <tbody>\n",
       "    <tr>\n",
       "      <th>39185</th>\n",
       "      <td>US1.RTX</td>\n",
       "      <td>0</td>\n",
       "      <td>20200409</td>\n",
       "      <td>155955</td>\n",
       "      <td>64.83</td>\n",
       "      <td>100</td>\n",
       "    </tr>\n",
       "    <tr>\n",
       "      <th>39186</th>\n",
       "      <td>US1.RTX</td>\n",
       "      <td>0</td>\n",
       "      <td>20200409</td>\n",
       "      <td>155955</td>\n",
       "      <td>64.83</td>\n",
       "      <td>100</td>\n",
       "    </tr>\n",
       "    <tr>\n",
       "      <th>39187</th>\n",
       "      <td>US1.RTX</td>\n",
       "      <td>0</td>\n",
       "      <td>20200409</td>\n",
       "      <td>155957</td>\n",
       "      <td>64.64</td>\n",
       "      <td>243</td>\n",
       "    </tr>\n",
       "    <tr>\n",
       "      <th>39188</th>\n",
       "      <td>US1.RTX</td>\n",
       "      <td>0</td>\n",
       "      <td>20200409</td>\n",
       "      <td>155959</td>\n",
       "      <td>64.57</td>\n",
       "      <td>100</td>\n",
       "    </tr>\n",
       "    <tr>\n",
       "      <th>39189</th>\n",
       "      <td>US1.RTX</td>\n",
       "      <td>0</td>\n",
       "      <td>20200409</td>\n",
       "      <td>155959</td>\n",
       "      <td>64.57</td>\n",
       "      <td>100</td>\n",
       "    </tr>\n",
       "  </tbody>\n",
       "</table>\n",
       "</div>"
      ],
      "text/plain": [
       "      <TICKER>  <PER>    <DATE>  <TIME>  <LAST>  <VOL>\n",
       "39185  US1.RTX      0  20200409  155955   64.83    100\n",
       "39186  US1.RTX      0  20200409  155955   64.83    100\n",
       "39187  US1.RTX      0  20200409  155957   64.64    243\n",
       "39188  US1.RTX      0  20200409  155959   64.57    100\n",
       "39189  US1.RTX      0  20200409  155959   64.57    100"
      ]
     },
     "execution_count": 139,
     "metadata": {},
     "output_type": "execute_result"
    }
   ],
   "source": [
    "pd.read_csv('/Users/jsf/Downloads/US1.RTX_190903_200411.txt').tail()"
   ]
  },
  {
   "cell_type": "code",
   "execution_count": 135,
   "metadata": {
    "ExecuteTime": {
     "end_time": "2020-05-13T06:12:40.764926Z",
     "start_time": "2020-05-13T06:12:37.806885Z"
    }
   },
   "outputs": [
    {
     "data": {
      "text/html": [
       "<div>\n",
       "<style scoped>\n",
       "    .dataframe tbody tr th:only-of-type {\n",
       "        vertical-align: middle;\n",
       "    }\n",
       "\n",
       "    .dataframe tbody tr th {\n",
       "        vertical-align: top;\n",
       "    }\n",
       "\n",
       "    .dataframe thead th {\n",
       "        text-align: right;\n",
       "    }\n",
       "</style>\n",
       "<table border=\"1\" class=\"dataframe\">\n",
       "  <thead>\n",
       "    <tr style=\"text-align: right;\">\n",
       "      <th></th>\n",
       "      <th>ticker</th>\n",
       "      <th>date</th>\n",
       "      <th>time</th>\n",
       "      <th>price</th>\n",
       "      <th>vol</th>\n",
       "      <th>date_time</th>\n",
       "    </tr>\n",
       "  </thead>\n",
       "  <tbody>\n",
       "    <tr>\n",
       "      <th>0</th>\n",
       "      <td>aapl</td>\n",
       "      <td>20190903</td>\n",
       "      <td>93001</td>\n",
       "      <td>206.21</td>\n",
       "      <td>200</td>\n",
       "      <td>2019-09-03 09:30:01</td>\n",
       "    </tr>\n",
       "    <tr>\n",
       "      <th>1</th>\n",
       "      <td>aapl</td>\n",
       "      <td>20190903</td>\n",
       "      <td>93001</td>\n",
       "      <td>206.20</td>\n",
       "      <td>200</td>\n",
       "      <td>2019-09-03 09:30:01</td>\n",
       "    </tr>\n",
       "    <tr>\n",
       "      <th>2</th>\n",
       "      <td>aapl</td>\n",
       "      <td>20190903</td>\n",
       "      <td>93001</td>\n",
       "      <td>206.12</td>\n",
       "      <td>100</td>\n",
       "      <td>2019-09-03 09:30:01</td>\n",
       "    </tr>\n",
       "    <tr>\n",
       "      <th>3</th>\n",
       "      <td>aapl</td>\n",
       "      <td>20190903</td>\n",
       "      <td>93001</td>\n",
       "      <td>206.29</td>\n",
       "      <td>100</td>\n",
       "      <td>2019-09-03 09:30:01</td>\n",
       "    </tr>\n",
       "    <tr>\n",
       "      <th>4</th>\n",
       "      <td>aapl</td>\n",
       "      <td>20190903</td>\n",
       "      <td>93001</td>\n",
       "      <td>206.29</td>\n",
       "      <td>100</td>\n",
       "      <td>2019-09-03 09:30:01</td>\n",
       "    </tr>\n",
       "  </tbody>\n",
       "</table>\n",
       "</div>"
      ],
      "text/plain": [
       "  ticker      date   time   price  vol           date_time\n",
       "0   aapl  20190903  93001  206.21  200 2019-09-03 09:30:01\n",
       "1   aapl  20190903  93001  206.20  200 2019-09-03 09:30:01\n",
       "2   aapl  20190903  93001  206.12  100 2019-09-03 09:30:01\n",
       "3   aapl  20190903  93001  206.29  100 2019-09-03 09:30:01\n",
       "4   aapl  20190903  93001  206.29  100 2019-09-03 09:30:01"
      ]
     },
     "execution_count": 135,
     "metadata": {},
     "output_type": "execute_result"
    }
   ],
   "source": [
    "df3 = clean_ru_data(df2)\n",
    "df3.head()"
   ]
  },
  {
   "cell_type": "code",
   "execution_count": 132,
   "metadata": {
    "ExecuteTime": {
     "end_time": "2020-05-13T06:11:50.091214Z",
     "start_time": "2020-05-13T06:11:50.076263Z"
    }
   },
   "outputs": [
    {
     "data": {
      "text/html": [
       "<div>\n",
       "<style scoped>\n",
       "    .dataframe tbody tr th:only-of-type {\n",
       "        vertical-align: middle;\n",
       "    }\n",
       "\n",
       "    .dataframe tbody tr th {\n",
       "        vertical-align: top;\n",
       "    }\n",
       "\n",
       "    .dataframe thead th {\n",
       "        text-align: right;\n",
       "    }\n",
       "</style>\n",
       "<table border=\"1\" class=\"dataframe\">\n",
       "  <thead>\n",
       "    <tr style=\"text-align: right;\">\n",
       "      <th></th>\n",
       "      <th>&lt;TICKER&gt;</th>\n",
       "      <th>&lt;PER&gt;</th>\n",
       "      <th>date</th>\n",
       "      <th>time</th>\n",
       "      <th>price</th>\n",
       "      <th>vol</th>\n",
       "      <th>date_time</th>\n",
       "    </tr>\n",
       "  </thead>\n",
       "  <tbody>\n",
       "    <tr>\n",
       "      <th>0</th>\n",
       "      <td>US1.AAPL</td>\n",
       "      <td>0</td>\n",
       "      <td>20190903</td>\n",
       "      <td>93001</td>\n",
       "      <td>206.21</td>\n",
       "      <td>200</td>\n",
       "      <td>2019090393001</td>\n",
       "    </tr>\n",
       "    <tr>\n",
       "      <th>1</th>\n",
       "      <td>US1.AAPL</td>\n",
       "      <td>0</td>\n",
       "      <td>20190903</td>\n",
       "      <td>93001</td>\n",
       "      <td>206.20</td>\n",
       "      <td>200</td>\n",
       "      <td>2019090393001</td>\n",
       "    </tr>\n",
       "    <tr>\n",
       "      <th>2</th>\n",
       "      <td>US1.AAPL</td>\n",
       "      <td>0</td>\n",
       "      <td>20190903</td>\n",
       "      <td>93001</td>\n",
       "      <td>206.12</td>\n",
       "      <td>100</td>\n",
       "      <td>2019090393001</td>\n",
       "    </tr>\n",
       "    <tr>\n",
       "      <th>3</th>\n",
       "      <td>US1.AAPL</td>\n",
       "      <td>0</td>\n",
       "      <td>20190903</td>\n",
       "      <td>93001</td>\n",
       "      <td>206.29</td>\n",
       "      <td>100</td>\n",
       "      <td>2019090393001</td>\n",
       "    </tr>\n",
       "    <tr>\n",
       "      <th>4</th>\n",
       "      <td>US1.AAPL</td>\n",
       "      <td>0</td>\n",
       "      <td>20190903</td>\n",
       "      <td>93001</td>\n",
       "      <td>206.29</td>\n",
       "      <td>100</td>\n",
       "      <td>2019090393001</td>\n",
       "    </tr>\n",
       "    <tr>\n",
       "      <th>...</th>\n",
       "      <td>...</td>\n",
       "      <td>...</td>\n",
       "      <td>...</td>\n",
       "      <td>...</td>\n",
       "      <td>...</td>\n",
       "      <td>...</td>\n",
       "      <td>...</td>\n",
       "    </tr>\n",
       "    <tr>\n",
       "      <th>779958</th>\n",
       "      <td>US1.AAPL</td>\n",
       "      <td>0</td>\n",
       "      <td>20191231</td>\n",
       "      <td>155959</td>\n",
       "      <td>293.61</td>\n",
       "      <td>100</td>\n",
       "      <td>20191231155959</td>\n",
       "    </tr>\n",
       "    <tr>\n",
       "      <th>779959</th>\n",
       "      <td>US1.AAPL</td>\n",
       "      <td>0</td>\n",
       "      <td>20191231</td>\n",
       "      <td>155959</td>\n",
       "      <td>293.50</td>\n",
       "      <td>100</td>\n",
       "      <td>20191231155959</td>\n",
       "    </tr>\n",
       "    <tr>\n",
       "      <th>779960</th>\n",
       "      <td>US1.AAPL</td>\n",
       "      <td>0</td>\n",
       "      <td>20191231</td>\n",
       "      <td>155959</td>\n",
       "      <td>293.47</td>\n",
       "      <td>100</td>\n",
       "      <td>20191231155959</td>\n",
       "    </tr>\n",
       "    <tr>\n",
       "      <th>779961</th>\n",
       "      <td>US1.AAPL</td>\n",
       "      <td>0</td>\n",
       "      <td>20191231</td>\n",
       "      <td>155959</td>\n",
       "      <td>293.46</td>\n",
       "      <td>100</td>\n",
       "      <td>20191231155959</td>\n",
       "    </tr>\n",
       "    <tr>\n",
       "      <th>779962</th>\n",
       "      <td>US1.AAPL</td>\n",
       "      <td>0</td>\n",
       "      <td>20191231</td>\n",
       "      <td>155959</td>\n",
       "      <td>293.44</td>\n",
       "      <td>100</td>\n",
       "      <td>20191231155959</td>\n",
       "    </tr>\n",
       "  </tbody>\n",
       "</table>\n",
       "<p>779963 rows × 7 columns</p>\n",
       "</div>"
      ],
      "text/plain": [
       "        <TICKER>  <PER>      date    time   price  vol       date_time\n",
       "0       US1.AAPL      0  20190903   93001  206.21  200   2019090393001\n",
       "1       US1.AAPL      0  20190903   93001  206.20  200   2019090393001\n",
       "2       US1.AAPL      0  20190903   93001  206.12  100   2019090393001\n",
       "3       US1.AAPL      0  20190903   93001  206.29  100   2019090393001\n",
       "4       US1.AAPL      0  20190903   93001  206.29  100   2019090393001\n",
       "...          ...    ...       ...     ...     ...  ...             ...\n",
       "779958  US1.AAPL      0  20191231  155959  293.61  100  20191231155959\n",
       "779959  US1.AAPL      0  20191231  155959  293.50  100  20191231155959\n",
       "779960  US1.AAPL      0  20191231  155959  293.47  100  20191231155959\n",
       "779961  US1.AAPL      0  20191231  155959  293.46  100  20191231155959\n",
       "779962  US1.AAPL      0  20191231  155959  293.44  100  20191231155959\n",
       "\n",
       "[779963 rows x 7 columns]"
      ]
     },
     "execution_count": 132,
     "metadata": {},
     "output_type": "execute_result"
    }
   ],
   "source": [
    "df2"
   ]
  },
  {
   "cell_type": "code",
   "execution_count": 122,
   "metadata": {
    "ExecuteTime": {
     "end_time": "2020-05-13T06:02:31.378936Z",
     "start_time": "2020-05-13T06:02:30.199118Z"
    }
   },
   "outputs": [
    {
     "data": {
      "text/html": [
       "<div>\n",
       "<style scoped>\n",
       "    .dataframe tbody tr th:only-of-type {\n",
       "        vertical-align: middle;\n",
       "    }\n",
       "\n",
       "    .dataframe tbody tr th {\n",
       "        vertical-align: top;\n",
       "    }\n",
       "\n",
       "    .dataframe thead th {\n",
       "        text-align: right;\n",
       "    }\n",
       "</style>\n",
       "<table border=\"1\" class=\"dataframe\">\n",
       "  <thead>\n",
       "    <tr style=\"text-align: right;\">\n",
       "      <th></th>\n",
       "      <th>date</th>\n",
       "      <th>time</th>\n",
       "      <th>price</th>\n",
       "      <th>vol</th>\n",
       "      <th>date_time</th>\n",
       "      <th>date_</th>\n",
       "      <th>time_</th>\n",
       "      <th>date_time_</th>\n",
       "    </tr>\n",
       "  </thead>\n",
       "  <tbody>\n",
       "    <tr>\n",
       "      <th>0</th>\n",
       "      <td>20190903</td>\n",
       "      <td>93001</td>\n",
       "      <td>206.21</td>\n",
       "      <td>200</td>\n",
       "      <td>2019090393001</td>\n",
       "      <td>2019-09-03</td>\n",
       "      <td>1900-01-01 09:30:01</td>\n",
       "      <td>2019-09-03 09:30:01</td>\n",
       "    </tr>\n",
       "    <tr>\n",
       "      <th>1</th>\n",
       "      <td>20190903</td>\n",
       "      <td>93001</td>\n",
       "      <td>206.20</td>\n",
       "      <td>200</td>\n",
       "      <td>2019090393001</td>\n",
       "      <td>2019-09-03</td>\n",
       "      <td>1900-01-01 09:30:01</td>\n",
       "      <td>2019-09-03 09:30:01</td>\n",
       "    </tr>\n",
       "    <tr>\n",
       "      <th>2</th>\n",
       "      <td>20190903</td>\n",
       "      <td>93001</td>\n",
       "      <td>206.12</td>\n",
       "      <td>100</td>\n",
       "      <td>2019090393001</td>\n",
       "      <td>2019-09-03</td>\n",
       "      <td>1900-01-01 09:30:01</td>\n",
       "      <td>2019-09-03 09:30:01</td>\n",
       "    </tr>\n",
       "    <tr>\n",
       "      <th>3</th>\n",
       "      <td>20190903</td>\n",
       "      <td>93001</td>\n",
       "      <td>206.29</td>\n",
       "      <td>100</td>\n",
       "      <td>2019090393001</td>\n",
       "      <td>2019-09-03</td>\n",
       "      <td>1900-01-01 09:30:01</td>\n",
       "      <td>2019-09-03 09:30:01</td>\n",
       "    </tr>\n",
       "    <tr>\n",
       "      <th>4</th>\n",
       "      <td>20190903</td>\n",
       "      <td>93001</td>\n",
       "      <td>206.29</td>\n",
       "      <td>100</td>\n",
       "      <td>2019090393001</td>\n",
       "      <td>2019-09-03</td>\n",
       "      <td>1900-01-01 09:30:01</td>\n",
       "      <td>2019-09-03 09:30:01</td>\n",
       "    </tr>\n",
       "  </tbody>\n",
       "</table>\n",
       "</div>"
      ],
      "text/plain": [
       "       date   time   price  vol      date_time      date_               time_  \\\n",
       "0  20190903  93001  206.21  200  2019090393001 2019-09-03 1900-01-01 09:30:01   \n",
       "1  20190903  93001  206.20  200  2019090393001 2019-09-03 1900-01-01 09:30:01   \n",
       "2  20190903  93001  206.12  100  2019090393001 2019-09-03 1900-01-01 09:30:01   \n",
       "3  20190903  93001  206.29  100  2019090393001 2019-09-03 1900-01-01 09:30:01   \n",
       "4  20190903  93001  206.29  100  2019090393001 2019-09-03 1900-01-01 09:30:01   \n",
       "\n",
       "           date_time_  \n",
       "0 2019-09-03 09:30:01  \n",
       "1 2019-09-03 09:30:01  \n",
       "2 2019-09-03 09:30:01  \n",
       "3 2019-09-03 09:30:01  \n",
       "4 2019-09-03 09:30:01  "
      ]
     },
     "execution_count": 122,
     "metadata": {},
     "output_type": "execute_result"
    }
   ],
   "source": [
    "# df3['date_'] = pd.to_datetime(df3['date'], format='%Y%m%d')\n",
    "# df3['time_'] = pd.to_datetime(df3['time'], format='%H%M%S')\n",
    "df3['date_time_'] = pd.to_datetime(df3['date_time'], format='%Y%m%d%H%M%S')\n",
    "df3.head()\n",
    "\n",
    "# "
   ]
  },
  {
   "cell_type": "code",
   "execution_count": null,
   "metadata": {},
   "outputs": [],
   "source": [
    "# talk to twitter again for api access for searching for tweets using stock tickers with a $\n",
    "# maybe other twitter scrapers can work or do it via tweetdeck/other app"
   ]
  },
  {
   "cell_type": "code",
   "execution_count": null,
   "metadata": {},
   "outputs": [],
   "source": []
  }
 ],
 "metadata": {
  "kernelspec": {
   "display_name": "Python 3",
   "language": "python",
   "name": "python3"
  },
  "language_info": {
   "codemirror_mode": {
    "name": "ipython",
    "version": 3
   },
   "file_extension": ".py",
   "mimetype": "text/x-python",
   "name": "python",
   "nbconvert_exporter": "python",
   "pygments_lexer": "ipython3",
   "version": "3.7.6"
  }
 },
 "nbformat": 4,
 "nbformat_minor": 4
}
