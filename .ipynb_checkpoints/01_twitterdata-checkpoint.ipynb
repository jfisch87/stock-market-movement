{
 "cells": [
  {
   "cell_type": "code",
   "execution_count": 18,
   "metadata": {
    "ExecuteTime": {
     "end_time": "2020-05-21T03:26:04.478633Z",
     "start_time": "2020-05-21T03:26:04.473265Z"
    }
   },
   "outputs": [],
   "source": [
    "import pandas as pd\n",
    "import requests\n",
    "import GetOldTweets3 as got\n",
    "import time\n",
    "import datetime\n",
    "import os"
   ]
  },
  {
   "cell_type": "code",
   "execution_count": 2,
   "metadata": {
    "ExecuteTime": {
     "end_time": "2020-05-20T19:21:52.890033Z",
     "start_time": "2020-05-20T19:21:52.886685Z"
    }
   },
   "outputs": [],
   "source": [
    "# Get list of djia tickers\n",
    "dow = ['mmm', 'axp', 'aapl', 'ba', 'cat', 'cvx', 'csco', 'ko', 'dow', 'xom', 'gs', 'hd', 'ibm',\n",
    "      'intc', 'jnj', 'jpm', 'mcd', 'mrk', 'msft', 'nke', 'pfe', 'pg', 'trv', 'unh',\n",
    "      'vz', 'v', 'wmt', 'wba', 'dis', 'rtn', 'utx']\n",
    "query_dow = [f'${i}' for i in dow]\n"
   ]
  },
  {
   "cell_type": "code",
   "execution_count": 39,
   "metadata": {
    "ExecuteTime": {
     "end_time": "2020-05-21T15:28:12.335512Z",
     "start_time": "2020-05-21T15:17:12.045947Z"
    }
   },
   "outputs": [
    {
     "name": "stderr",
     "output_type": "stream",
     "text": [
      "ERROR:root:Internal Python error in the inspect module.\n",
      "Below is the traceback from this internal error.\n",
      "\n"
     ]
    },
    {
     "name": "stdout",
     "output_type": "stream",
     "text": [
      "An error occured during an HTTP request: HTTP Error 429: Too Many Requests\n",
      "Try to open in browser: https://twitter.com/search?q=%24aapl%20since%3A2019-09-18%20until%3A2019-09-19&src=typd\n",
      "Traceback (most recent call last):\n",
      "  File \"/Users/jsf/opt/anaconda3/lib/python3.7/site-packages/GetOldTweets3/manager/TweetManager.py\", line 343, in getJsonResponse\n",
      "    response = opener.open(url)\n",
      "  File \"/Users/jsf/opt/anaconda3/lib/python3.7/urllib/request.py\", line 531, in open\n",
      "    response = meth(req, response)\n",
      "  File \"/Users/jsf/opt/anaconda3/lib/python3.7/urllib/request.py\", line 641, in http_response\n",
      "    'http', request, response, code, msg, hdrs)\n",
      "  File \"/Users/jsf/opt/anaconda3/lib/python3.7/urllib/request.py\", line 569, in error\n",
      "    return self._call_chain(*args)\n",
      "  File \"/Users/jsf/opt/anaconda3/lib/python3.7/urllib/request.py\", line 503, in _call_chain\n",
      "    result = func(*args)\n",
      "  File \"/Users/jsf/opt/anaconda3/lib/python3.7/urllib/request.py\", line 649, in http_error_default\n",
      "    raise HTTPError(req.full_url, code, msg, hdrs, fp)\n",
      "urllib.error.HTTPError: HTTP Error 429: Too Many Requests\n",
      "\n",
      "During handling of the above exception, another exception occurred:\n",
      "\n",
      "Traceback (most recent call last):\n",
      "  File \"/Users/jsf/opt/anaconda3/lib/python3.7/site-packages/IPython/core/interactiveshell.py\", line 3331, in run_code\n",
      "    exec(code_obj, self.user_global_ns, self.user_ns)\n",
      "  File \"<ipython-input-39-093b86149544>\", line 37, in <module>\n",
      "    tweets = got.manager.TweetManager.getTweets(criteria)\n",
      "  File \"/Users/jsf/opt/anaconda3/lib/python3.7/site-packages/GetOldTweets3/manager/TweetManager.py\", line 65, in getTweets\n",
      "    json = TweetManager.getJsonResponse(tweetCriteria, refreshCursor, cookieJar, proxy, user_agent, debug=debug)\n",
      "  File \"/Users/jsf/opt/anaconda3/lib/python3.7/site-packages/GetOldTweets3/manager/TweetManager.py\", line 348, in getJsonResponse\n",
      "    sys.exit()\n",
      "SystemExit\n",
      "\n",
      "During handling of the above exception, another exception occurred:\n",
      "\n",
      "Traceback (most recent call last):\n",
      "  File \"/Users/jsf/opt/anaconda3/lib/python3.7/site-packages/IPython/core/ultratb.py\", line 1151, in get_records\n",
      "    return _fixed_getinnerframes(etb, number_of_lines_of_context, tb_offset)\n",
      "  File \"/Users/jsf/opt/anaconda3/lib/python3.7/site-packages/IPython/core/ultratb.py\", line 319, in wrapped\n",
      "    return f(*args, **kwargs)\n",
      "  File \"/Users/jsf/opt/anaconda3/lib/python3.7/site-packages/IPython/core/ultratb.py\", line 353, in _fixed_getinnerframes\n",
      "    records = fix_frame_records_filenames(inspect.getinnerframes(etb, context))\n",
      "  File \"/Users/jsf/opt/anaconda3/lib/python3.7/inspect.py\", line 1502, in getinnerframes\n",
      "    frameinfo = (tb.tb_frame,) + getframeinfo(tb, context)\n",
      "AttributeError: 'tuple' object has no attribute 'tb_frame'\n"
     ]
    },
    {
     "ename": "SystemExit",
     "evalue": "",
     "output_type": "error",
     "traceback": [
      "An exception has occurred, use %tb to see the full traceback.\n",
      "\u001b[0;31m---------------------------------------------------------------------------\u001b[0m",
      "\nDuring handling of the above exception, another exception occurred:\n",
      "\u001b[0;31mSystemExit\u001b[0m\n"
     ]
    }
   ],
   "source": [
    "def get_twitter_info():\n",
    "    tweet_df[\"id\"] = tweet_df[\"got_criteria\"].apply(lambda x: x.id)\n",
    "    tweet_df[\"tweet_text\"] = tweet_df[\"got_criteria\"].apply(lambda x: x.text)\n",
    "    tweet_df[\"date\"] = tweet_df[\"got_criteria\"].apply(lambda x: x.date)\n",
    "    tweet_df[\"hashtags\"] = tweet_df[\"got_criteria\"].apply(lambda x: x.hashtags)\n",
    "    tweet_df[\"username\"] = tweet_df[\"got_criteria\"].apply(lambda x: x.username)\n",
    "    tweet_df[\"mentions\"] = tweet_df[\"got_criteria\"].apply(lambda x: x.mentions)\n",
    "    tweet_df[\"rewtweets\"] = tweet_df[\"got_criteria\"].apply(lambda x: x.retweets)\n",
    "    tweet_df[\"replies\"] = tweet_df[\"got_criteria\"].apply(lambda x: x.replies)\n",
    "    tweet_df[\"link\"] = tweet_df[\"got_criteria\"].apply(lambda x: x.permalink)\n",
    "# https://medium.com/@robbiegeoghegan/download-twitter-data-with-10-lines-of-code-42eb2ba1ab0f\n",
    "#set search variables\n",
    "\n",
    "oldest_date = datetime.datetime.strptime(\"2019-09-03\", \"%Y-%m-%d\")\n",
    "newest_date = datetime.datetime.strptime(\"2019-12-31\", \"%Y-%m-%d\")\n",
    "# add in iterator for week or date\n",
    "date_range = [oldest_date + datetime.timedelta(days = x) for x in range(0,(newest_date-oldest_date).days, 1)]\n",
    "# https://www.pythonprogramming.in/get-range-of-dates-between-specified-start-and-end-date.html\n",
    "# tweetCriteria_list = []\n",
    "# for keyword in query_dow:\n",
    "#     tweetCriteria = got.manager.TweetCriteria().setQuerySearch(keyword)\\\n",
    "#                                             .setSince(oldest_date)\\\n",
    "#                                             .setUntil(newest_date)\n",
    "#     tweetCriteria_list.append(tweetCriteria)\n",
    "#create twitter info for each company\n",
    "\n",
    "count = 0\n",
    "\n",
    "for company in dow[2:3]:\n",
    "    tweet_list = []\n",
    "    tweet_dict = {}\n",
    "    for i, week in enumerate(date_range[:-1]):\n",
    "        start = str(date_range[i])[:10]\n",
    "        end = str(date_range[i+1]) [:10]\n",
    "        criteria = got.manager.TweetCriteria().setQuerySearch(f'${company}')\\\n",
    "                                            .setSince(start)\\\n",
    "                                            .setUntil(end)\n",
    "        tweets = got.manager.TweetManager.getTweets(criteria)\n",
    "        tweet_list += tweets\n",
    "        time.sleep(10)\n",
    "    count+=1\n",
    "    print(f'pulled {len(tweet_list)} tweets for {company}.  {count}/{len(dow)}')\n",
    "    #create df\n",
    "    tweet_dict[company] = tweet_list\n",
    "    tweet_df = pd.DataFrame(dict([ (k,pd.Series(v)) for k,v in tweet_dict.items() ]))\n",
    "    tweet_df['tweet_count'] = tweet_df.index\n",
    "    tweet_df = pd.melt(tweet_df, id_vars=[\"tweet_count\"], var_name='company', value_name='got_criteria')\n",
    "    get_twitter_info()\n",
    "    tweet_df = tweet_df.drop(\"got_criteria\", 1)\n",
    "    tweet_df.to_csv(f'./datasets/twitters/{company}_tweets.csv')\n",
    "    time.sleep(180)\n",
    "\n",
    "\n",
    "# tweet_df = tweet_df.dropna()\n",
    "#extract twitter information\n",
    "\n"
   ]
  },
  {
   "cell_type": "code",
   "execution_count": 33,
   "metadata": {
    "ExecuteTime": {
     "end_time": "2020-05-21T05:22:36.986487Z",
     "start_time": "2020-05-21T05:22:36.982904Z"
    }
   },
   "outputs": [
    {
     "data": {
      "text/plain": [
       "'2019-12-17'"
      ]
     },
     "execution_count": 33,
     "metadata": {},
     "output_type": "execute_result"
    }
   ],
   "source": [
    "str(date_range[i])[:10]"
   ]
  },
  {
   "cell_type": "code",
   "execution_count": 35,
   "metadata": {
    "ExecuteTime": {
     "end_time": "2020-05-21T05:26:27.946014Z",
     "start_time": "2020-05-21T05:26:27.939233Z"
    }
   },
   "outputs": [
    {
     "data": {
      "text/plain": [
       "mmm    4104\n",
       "Name: company, dtype: int64"
      ]
     },
     "execution_count": 35,
     "metadata": {},
     "output_type": "execute_result"
    }
   ],
   "source": [
    "tweet_df['company'].value_counts()"
   ]
  },
  {
   "cell_type": "code",
   "execution_count": 36,
   "metadata": {
    "ExecuteTime": {
     "end_time": "2020-05-21T05:26:36.673213Z",
     "start_time": "2020-05-21T05:26:36.492568Z"
    }
   },
   "outputs": [
    {
     "name": "stdout",
     "output_type": "stream",
     "text": [
      "cvx_tweets is 0 long\n",
      "v_tweets is 0 long\n",
      "dow_tweets is 0 long\n",
      "cat_tweets is 0 long\n",
      ".DS_S is 7 long\n",
      "mrk_tweets is 0 long\n",
      "axp_tweets is 0 long\n",
      "jpm_tweets is 0 long\n",
      "gs_tweets is 0 long\n",
      "rtn_tweets is 0 long\n",
      "intc_tweets is 0 long\n",
      "xom_tweets is 0 long\n",
      "ko_tweets is 0 long\n",
      "vz_tweets is 0 long\n",
      "nke_tweets is 0 long\n",
      "utx_tweets is 0 long\n",
      "ibm_tweets is 0 long\n",
      "wmt_tweets is 0 long\n",
      "mcd_tweets is 0 long\n",
      "aapl_tweets is 0 long\n",
      "unh_tweets is 0 long\n",
      "msft_tweets is 0 long\n",
      "ba_tweets is 0 long\n",
      "dis_tweets is 0 long\n",
      "csco_tweets is 0 long\n",
      "wba_tweets is 0 long\n",
      "hd_tweets is 0 long\n",
      "pg_tweets is 0 long\n",
      "trv_tweets is 0 long\n",
      "mmm_tweets is 4104 long\n",
      "jnj_tweets is 0 long\n",
      "pfe_tweets is 0 long\n"
     ]
    }
   ],
   "source": [
    "for file in os.listdir('./datasets/twitters/'):\n",
    "    df = pd.read_csv(f'./datasets/twitters/{file}')\n",
    "    print(f'{file[:-4]} is {df.shape[0]} long')"
   ]
  },
  {
   "cell_type": "code",
   "execution_count": 22,
   "metadata": {
    "ExecuteTime": {
     "end_time": "2020-05-21T03:31:08.776007Z",
     "start_time": "2020-05-21T03:31:08.759911Z"
    }
   },
   "outputs": [
    {
     "data": {
      "text/html": [
       "<div>\n",
       "<style scoped>\n",
       "    .dataframe tbody tr th:only-of-type {\n",
       "        vertical-align: middle;\n",
       "    }\n",
       "\n",
       "    .dataframe tbody tr th {\n",
       "        vertical-align: top;\n",
       "    }\n",
       "\n",
       "    .dataframe thead th {\n",
       "        text-align: right;\n",
       "    }\n",
       "</style>\n",
       "<table border=\"1\" class=\"dataframe\">\n",
       "  <thead>\n",
       "    <tr style=\"text-align: right;\">\n",
       "      <th></th>\n",
       "      <th>Unnamed: 0</th>\n",
       "      <th>tweet_count</th>\n",
       "      <th>company</th>\n",
       "      <th>id</th>\n",
       "      <th>tweet_text</th>\n",
       "      <th>date</th>\n",
       "      <th>hashtags</th>\n",
       "      <th>username</th>\n",
       "      <th>mentions</th>\n",
       "      <th>rewtweets</th>\n",
       "      <th>replies</th>\n",
       "      <th>link</th>\n",
       "    </tr>\n",
       "  </thead>\n",
       "  <tbody>\n",
       "  </tbody>\n",
       "</table>\n",
       "</div>"
      ],
      "text/plain": [
       "Empty DataFrame\n",
       "Columns: [Unnamed: 0, tweet_count, company, id, tweet_text, date, hashtags, username, mentions, rewtweets, replies, link]\n",
       "Index: []"
      ]
     },
     "execution_count": 22,
     "metadata": {},
     "output_type": "execute_result"
    }
   ],
   "source": [
    "df = pd.read_csv('./datasets/twitters/aapl_tweets.csv')\n",
    "df.head()"
   ]
  },
  {
   "cell_type": "code",
   "execution_count": null,
   "metadata": {},
   "outputs": [],
   "source": []
  }
 ],
 "metadata": {
  "kernelspec": {
   "display_name": "Python 3",
   "language": "python",
   "name": "python3"
  },
  "language_info": {
   "codemirror_mode": {
    "name": "ipython",
    "version": 3
   },
   "file_extension": ".py",
   "mimetype": "text/x-python",
   "name": "python",
   "nbconvert_exporter": "python",
   "pygments_lexer": "ipython3",
   "version": "3.7.6"
  }
 },
 "nbformat": 4,
 "nbformat_minor": 4
}
