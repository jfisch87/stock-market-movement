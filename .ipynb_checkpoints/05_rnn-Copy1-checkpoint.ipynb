{
 "cells": [
  {
   "cell_type": "code",
   "execution_count": 1,
   "metadata": {
    "ExecuteTime": {
     "end_time": "2020-06-03T15:31:04.356119Z",
     "start_time": "2020-06-03T15:31:00.289691Z"
    }
   },
   "outputs": [],
   "source": [
    "import numpy as np\n",
    "import pandas as pd\n",
    "\n",
    "from sklearn.preprocessing import StandardScaler\n",
    "from sklearn.model_selection import train_test_split\n",
    "from sklearn.metrics import accuracy_score\n",
    "\n",
    "from tensorflow.keras.models import Sequential\n",
    "from tensorflow.keras.layers import Dense, Dropout, GRU, Embedding\n",
    "from tensorflow.keras.optimizers import Adam\n",
    "from tensorflow.keras.preprocessing.sequence import TimeseriesGenerator\n",
    "from tensorflow.keras.utils import to_categorical\n",
    "import pickle\n",
    "\n",
    "\n",
    "import matplotlib.pyplot as plt\n",
    "%matplotlib inline"
   ]
  },
  {
   "cell_type": "code",
   "execution_count": null,
   "metadata": {},
   "outputs": [],
   "source": [
    "directory = './datasets/resampled/'\n",
    "files = [file for file in os.listdir(directory) if file.endswith('.csv')]\n",
    "\n",
    "stocks = {}\n",
    "for file in files:\n",
    "    df = pd.read_csv(directory + file, index_col='date_time', parse_dates=True)\n",
    "    df.sort_index(inplace=True)\n",
    "    df['target'] = np.where(df['mean_px_1'] > 0, 1,\n",
    "                           np.where(df['mean_px_1'] < 0, -1, 0))\n",
    "    ticker = df['ticker'][0]\n",
    "    stocks[ticker] = df\n",
    "    "
   ]
  },
  {
   "cell_type": "code",
   "execution_count": 2,
   "metadata": {
    "ExecuteTime": {
     "end_time": "2020-06-03T15:37:12.599533Z",
     "start_time": "2020-06-03T15:36:40.285388Z"
    }
   },
   "outputs": [
    {
     "data": {
      "text/html": [
       "<div>\n",
       "<style scoped>\n",
       "    .dataframe tbody tr th:only-of-type {\n",
       "        vertical-align: middle;\n",
       "    }\n",
       "\n",
       "    .dataframe tbody tr th {\n",
       "        vertical-align: top;\n",
       "    }\n",
       "\n",
       "    .dataframe thead th {\n",
       "        text-align: right;\n",
       "    }\n",
       "</style>\n",
       "<table border=\"1\" class=\"dataframe\">\n",
       "  <thead>\n",
       "    <tr style=\"text-align: right;\">\n",
       "      <th></th>\n",
       "      <th>vol</th>\n",
       "      <th>price open</th>\n",
       "      <th>price high</th>\n",
       "      <th>price low</th>\n",
       "      <th>price close</th>\n",
       "      <th>mean_price</th>\n",
       "      <th>high_px_1</th>\n",
       "      <th>mean_px_1</th>\n",
       "      <th>high_px_2</th>\n",
       "      <th>mean_px_2</th>\n",
       "      <th>...</th>\n",
       "      <th>mean_px_5</th>\n",
       "      <th>high_px_10</th>\n",
       "      <th>mean_px_10</th>\n",
       "      <th>high_px_15</th>\n",
       "      <th>mean_px_15</th>\n",
       "      <th>high_px_30</th>\n",
       "      <th>mean_px_30</th>\n",
       "      <th>high_px_60</th>\n",
       "      <th>mean_px_60</th>\n",
       "      <th>ticker</th>\n",
       "    </tr>\n",
       "    <tr>\n",
       "      <th>date_time</th>\n",
       "      <th></th>\n",
       "      <th></th>\n",
       "      <th></th>\n",
       "      <th></th>\n",
       "      <th></th>\n",
       "      <th></th>\n",
       "      <th></th>\n",
       "      <th></th>\n",
       "      <th></th>\n",
       "      <th></th>\n",
       "      <th></th>\n",
       "      <th></th>\n",
       "      <th></th>\n",
       "      <th></th>\n",
       "      <th></th>\n",
       "      <th></th>\n",
       "      <th></th>\n",
       "      <th></th>\n",
       "      <th></th>\n",
       "      <th></th>\n",
       "      <th></th>\n",
       "    </tr>\n",
       "  </thead>\n",
       "  <tbody>\n",
       "    <tr>\n",
       "      <th>2019-09-03 09:30:05</th>\n",
       "      <td>100</td>\n",
       "      <td>201.61</td>\n",
       "      <td>201.61</td>\n",
       "      <td>201.61</td>\n",
       "      <td>201.61</td>\n",
       "      <td>201.61</td>\n",
       "      <td>NaN</td>\n",
       "      <td>NaN</td>\n",
       "      <td>NaN</td>\n",
       "      <td>NaN</td>\n",
       "      <td>...</td>\n",
       "      <td>NaN</td>\n",
       "      <td>NaN</td>\n",
       "      <td>NaN</td>\n",
       "      <td>NaN</td>\n",
       "      <td>NaN</td>\n",
       "      <td>NaN</td>\n",
       "      <td>NaN</td>\n",
       "      <td>NaN</td>\n",
       "      <td>NaN</td>\n",
       "      <td>gs</td>\n",
       "    </tr>\n",
       "    <tr>\n",
       "      <th>2019-09-03 09:30:06</th>\n",
       "      <td>0</td>\n",
       "      <td>201.61</td>\n",
       "      <td>201.61</td>\n",
       "      <td>201.61</td>\n",
       "      <td>201.61</td>\n",
       "      <td>201.61</td>\n",
       "      <td>0.0</td>\n",
       "      <td>0.0</td>\n",
       "      <td>NaN</td>\n",
       "      <td>NaN</td>\n",
       "      <td>...</td>\n",
       "      <td>NaN</td>\n",
       "      <td>NaN</td>\n",
       "      <td>NaN</td>\n",
       "      <td>NaN</td>\n",
       "      <td>NaN</td>\n",
       "      <td>NaN</td>\n",
       "      <td>NaN</td>\n",
       "      <td>NaN</td>\n",
       "      <td>NaN</td>\n",
       "      <td>gs</td>\n",
       "    </tr>\n",
       "    <tr>\n",
       "      <th>2019-09-03 09:30:07</th>\n",
       "      <td>100</td>\n",
       "      <td>201.61</td>\n",
       "      <td>201.61</td>\n",
       "      <td>201.61</td>\n",
       "      <td>201.61</td>\n",
       "      <td>201.61</td>\n",
       "      <td>0.0</td>\n",
       "      <td>0.0</td>\n",
       "      <td>0.0</td>\n",
       "      <td>0.0</td>\n",
       "      <td>...</td>\n",
       "      <td>NaN</td>\n",
       "      <td>NaN</td>\n",
       "      <td>NaN</td>\n",
       "      <td>NaN</td>\n",
       "      <td>NaN</td>\n",
       "      <td>NaN</td>\n",
       "      <td>NaN</td>\n",
       "      <td>NaN</td>\n",
       "      <td>NaN</td>\n",
       "      <td>gs</td>\n",
       "    </tr>\n",
       "    <tr>\n",
       "      <th>2019-09-03 09:30:08</th>\n",
       "      <td>0</td>\n",
       "      <td>201.61</td>\n",
       "      <td>201.61</td>\n",
       "      <td>201.61</td>\n",
       "      <td>201.61</td>\n",
       "      <td>201.61</td>\n",
       "      <td>0.0</td>\n",
       "      <td>0.0</td>\n",
       "      <td>0.0</td>\n",
       "      <td>0.0</td>\n",
       "      <td>...</td>\n",
       "      <td>NaN</td>\n",
       "      <td>NaN</td>\n",
       "      <td>NaN</td>\n",
       "      <td>NaN</td>\n",
       "      <td>NaN</td>\n",
       "      <td>NaN</td>\n",
       "      <td>NaN</td>\n",
       "      <td>NaN</td>\n",
       "      <td>NaN</td>\n",
       "      <td>gs</td>\n",
       "    </tr>\n",
       "    <tr>\n",
       "      <th>2019-09-03 09:30:09</th>\n",
       "      <td>0</td>\n",
       "      <td>201.61</td>\n",
       "      <td>201.61</td>\n",
       "      <td>201.61</td>\n",
       "      <td>201.61</td>\n",
       "      <td>201.61</td>\n",
       "      <td>0.0</td>\n",
       "      <td>0.0</td>\n",
       "      <td>0.0</td>\n",
       "      <td>0.0</td>\n",
       "      <td>...</td>\n",
       "      <td>NaN</td>\n",
       "      <td>NaN</td>\n",
       "      <td>NaN</td>\n",
       "      <td>NaN</td>\n",
       "      <td>NaN</td>\n",
       "      <td>NaN</td>\n",
       "      <td>NaN</td>\n",
       "      <td>NaN</td>\n",
       "      <td>NaN</td>\n",
       "      <td>gs</td>\n",
       "    </tr>\n",
       "  </tbody>\n",
       "</table>\n",
       "<p>5 rows × 25 columns</p>\n",
       "</div>"
      ],
      "text/plain": [
       "                     vol  price open  price high  price low  price close  \\\n",
       "date_time                                                                  \n",
       "2019-09-03 09:30:05  100      201.61      201.61     201.61       201.61   \n",
       "2019-09-03 09:30:06    0      201.61      201.61     201.61       201.61   \n",
       "2019-09-03 09:30:07  100      201.61      201.61     201.61       201.61   \n",
       "2019-09-03 09:30:08    0      201.61      201.61     201.61       201.61   \n",
       "2019-09-03 09:30:09    0      201.61      201.61     201.61       201.61   \n",
       "\n",
       "                     mean_price  high_px_1  mean_px_1  high_px_2  mean_px_2  \\\n",
       "date_time                                                                     \n",
       "2019-09-03 09:30:05      201.61        NaN        NaN        NaN        NaN   \n",
       "2019-09-03 09:30:06      201.61        0.0        0.0        NaN        NaN   \n",
       "2019-09-03 09:30:07      201.61        0.0        0.0        0.0        0.0   \n",
       "2019-09-03 09:30:08      201.61        0.0        0.0        0.0        0.0   \n",
       "2019-09-03 09:30:09      201.61        0.0        0.0        0.0        0.0   \n",
       "\n",
       "                     ...  mean_px_5  high_px_10  mean_px_10  high_px_15  \\\n",
       "date_time            ...                                                  \n",
       "2019-09-03 09:30:05  ...        NaN         NaN         NaN         NaN   \n",
       "2019-09-03 09:30:06  ...        NaN         NaN         NaN         NaN   \n",
       "2019-09-03 09:30:07  ...        NaN         NaN         NaN         NaN   \n",
       "2019-09-03 09:30:08  ...        NaN         NaN         NaN         NaN   \n",
       "2019-09-03 09:30:09  ...        NaN         NaN         NaN         NaN   \n",
       "\n",
       "                     mean_px_15  high_px_30  mean_px_30  high_px_60  \\\n",
       "date_time                                                             \n",
       "2019-09-03 09:30:05         NaN         NaN         NaN         NaN   \n",
       "2019-09-03 09:30:06         NaN         NaN         NaN         NaN   \n",
       "2019-09-03 09:30:07         NaN         NaN         NaN         NaN   \n",
       "2019-09-03 09:30:08         NaN         NaN         NaN         NaN   \n",
       "2019-09-03 09:30:09         NaN         NaN         NaN         NaN   \n",
       "\n",
       "                     mean_px_60  ticker  \n",
       "date_time                                \n",
       "2019-09-03 09:30:05         NaN      gs  \n",
       "2019-09-03 09:30:06         NaN      gs  \n",
       "2019-09-03 09:30:07         NaN      gs  \n",
       "2019-09-03 09:30:08         NaN      gs  \n",
       "2019-09-03 09:30:09         NaN      gs  \n",
       "\n",
       "[5 rows x 25 columns]"
      ]
     },
     "execution_count": 2,
     "metadata": {},
     "output_type": "execute_result"
    }
   ],
   "source": [
    "df = pd.read_csv('./datasets/resampled/gs.csv', index_col='date_time', parse_dates=True, nrows=100_000)\n",
    "df.sort_index(inplace=True)\n",
    "df.head()"
   ]
  },
  {
   "cell_type": "code",
   "execution_count": 3,
   "metadata": {
    "ExecuteTime": {
     "end_time": "2020-06-03T15:38:07.732801Z",
     "start_time": "2020-06-03T15:38:07.091555Z"
    }
   },
   "outputs": [
    {
     "data": {
      "text/plain": [
       " 0    0.993609\n",
       " 1    0.003233\n",
       "-1    0.003158\n",
       "Name: target, dtype: float64"
      ]
     },
     "execution_count": 3,
     "metadata": {},
     "output_type": "execute_result"
    }
   ],
   "source": [
    "df['target'] = np.where(df['mean_px_1'] > 0, 1,\n",
    "                           np.where(df['mean_px_1'] < 0, -1, 0))\n",
    "df['target'].value_counts(normalize=True)"
   ]
  },
  {
   "cell_type": "code",
   "execution_count": 4,
   "metadata": {
    "ExecuteTime": {
     "end_time": "2020-06-03T15:38:18.410582Z",
     "start_time": "2020-06-03T15:38:18.328429Z"
    }
   },
   "outputs": [],
   "source": [
    "df['target'] = df['target'] + 1\n"
   ]
  },
  {
   "cell_type": "code",
   "execution_count": 5,
   "metadata": {
    "ExecuteTime": {
     "end_time": "2020-06-03T15:38:24.816147Z",
     "start_time": "2020-06-03T15:38:21.550498Z"
    }
   },
   "outputs": [],
   "source": [
    "X = df.drop(columns=['target', 'ticker', 'price open', 'price close', 'price low'])\n",
    "y = df['target']\n",
    "y = to_categorical(y)\n",
    "X_train, X_test, y_train, y_test = train_test_split(X, y, shuffle=False)"
   ]
  },
  {
   "cell_type": "code",
   "execution_count": 7,
   "metadata": {
    "ExecuteTime": {
     "end_time": "2020-06-03T15:40:13.980423Z",
     "start_time": "2020-06-03T15:40:05.467772Z"
    }
   },
   "outputs": [],
   "source": [
    "ss = StandardScaler()\n",
    "X_train_sc = ss.fit_transform(X_train)\n",
    "X_test_sc = ss.transform(X_test)\n",
    "\n",
    "tsg_len = 5\n",
    "tsg_batch = 512\n",
    "train_seq = TimeseriesGenerator(X_train_sc, y_train, \n",
    "                                length=tsg_len, batch_size=tsg_batch)\n",
    "test_seq = TimeseriesGenerator(X_test_sc, y_test, \n",
    "                               length=tsg_len, batch_size=tsg_batch)\n"
   ]
  },
  {
   "cell_type": "code",
   "execution_count": 8,
   "metadata": {
    "ExecuteTime": {
     "end_time": "2020-06-03T19:52:46.858806Z",
     "start_time": "2020-06-03T15:40:13.986719Z"
    },
    "collapsed": true
   },
   "outputs": [
    {
     "name": "stdout",
     "output_type": "stream",
     "text": [
      "Epoch 1/20\n",
      "120762/120762 [==============================] - 691s 6ms/step - loss: nan - accuracy: 0.8582 - val_loss: nan - val_accuracy: 0.0024\n",
      "Epoch 2/20\n",
      "120762/120762 [==============================] - 701s 6ms/step - loss: nan - accuracy: 0.0034 - val_loss: nan - val_accuracy: 0.0024\n",
      "Epoch 3/20\n",
      "120762/120762 [==============================] - 689s 6ms/step - loss: nan - accuracy: 0.0034 - val_loss: nan - val_accuracy: 0.0024\n",
      "Epoch 4/20\n",
      "120762/120762 [==============================] - 683s 6ms/step - loss: nan - accuracy: 0.0034 - val_loss: nan - val_accuracy: 0.0024\n",
      "Epoch 5/20\n",
      "120762/120762 [==============================] - 682s 6ms/step - loss: nan - accuracy: 0.0034 - val_loss: nan - val_accuracy: 0.0024\n",
      "Epoch 6/20\n",
      "120762/120762 [==============================] - 682s 6ms/step - loss: nan - accuracy: 0.0034 - val_loss: nan - val_accuracy: 0.0024\n",
      "Epoch 7/20\n",
      "120762/120762 [==============================] - 691s 6ms/step - loss: nan - accuracy: 0.0034 - val_loss: nan - val_accuracy: 0.0024\n",
      "Epoch 8/20\n",
      "120762/120762 [==============================] - 697s 6ms/step - loss: nan - accuracy: 0.0034 - val_loss: nan - val_accuracy: 0.0024\n",
      "Epoch 9/20\n",
      "120762/120762 [==============================] - 689s 6ms/step - loss: nan - accuracy: 0.0034 - val_loss: nan - val_accuracy: 0.0024\n",
      "Epoch 10/20\n",
      "120762/120762 [==============================] - 672s 6ms/step - loss: nan - accuracy: 0.0034 - val_loss: nan - val_accuracy: 0.0024\n",
      "Epoch 11/20\n",
      "120762/120762 [==============================] - 675s 6ms/step - loss: nan - accuracy: 0.0034 - val_loss: nan - val_accuracy: 0.0024\n",
      "Epoch 12/20\n",
      "120762/120762 [==============================] - 682s 6ms/step - loss: nan - accuracy: 0.0034 - val_loss: nan - val_accuracy: 0.0024\n",
      "Epoch 13/20\n",
      "120762/120762 [==============================] - 670s 6ms/step - loss: nan - accuracy: 0.0034 - val_loss: nan - val_accuracy: 0.0024\n",
      "Epoch 14/20\n",
      "120762/120762 [==============================] - 684s 6ms/step - loss: nan - accuracy: 0.0034 - val_loss: nan - val_accuracy: 0.0024\n",
      "Epoch 15/20\n",
      "120762/120762 [==============================] - 2162s 18ms/step - loss: nan - accuracy: 0.0034 - val_loss: nan - val_accuracy: 0.0024\n",
      "Epoch 16/20\n",
      "120762/120762 [==============================] - 714s 6ms/step - loss: nan - accuracy: 0.0034 - val_loss: nan - val_accuracy: 0.0024\n",
      "Epoch 17/20\n",
      "120762/120762 [==============================] - 676s 6ms/step - loss: nan - accuracy: 0.0034 - val_loss: nan - val_accuracy: 0.0024\n",
      "Epoch 18/20\n",
      "120762/120762 [==============================] - 671s 6ms/step - loss: nan - accuracy: 0.0034 - val_loss: nan - val_accuracy: 0.0024\n",
      "Epoch 19/20\n",
      "120762/120762 [==============================] - 673s 6ms/step - loss: nan - accuracy: 0.0034 - val_loss: nan - val_accuracy: 0.0024\n",
      "Epoch 20/20\n",
      "120762/120762 [==============================] - 660s 5ms/step - loss: nan - accuracy: 0.0034 - val_loss: nan - val_accuracy: 0.0024\n"
     ]
    }
   ],
   "source": [
    "# Design RNN\n",
    "model = Sequential()\n",
    "model.add(GRU(32,\n",
    "             input_dim=X.shape[1],\n",
    "             return_sequences=True)) # True if next layer is RNN\n",
    "model.add(GRU(16,return_sequences=False)) # False if next layer is Dense\n",
    "model.add(Dense(8, activation='relu'))\n",
    "model.add(Dense(4, activation='relu'))\n",
    "# output layer\n",
    "model.add(Dense(3, activation='softmax'))\n",
    "model.compile(loss='categorical_crossentropy', optimizer=Adam(),\n",
    "              metrics = ['accuracy'])\n",
    "hist = model.fit(train_seq,\n",
    "                epochs=10,\n",
    "                validation_data=test_seq)\n"
   ]
  },
  {
   "cell_type": "code",
   "execution_count": 9,
   "metadata": {
    "ExecuteTime": {
     "end_time": "2020-06-03T19:53:28.162284Z",
     "start_time": "2020-06-03T19:53:27.424322Z"
    }
   },
   "outputs": [
    {
     "data": {
      "text/plain": [
       "Text(0.5, 1.0, 'loss ')"
      ]
     },
     "execution_count": 9,
     "metadata": {},
     "output_type": "execute_result"
    },
    {
     "data": {
      "image/png": "[encoded data removed]",
      "text/plain": [
       "<Figure size 432x288 with 1 Axes>"
      ]
     },
     "metadata": {
      "needs_background": "light"
     },
     "output_type": "display_data"
    }
   ],
   "source": [
    "plt.plot(hist.history['accuracy'], label = 'Train Accuracy')\n",
    "plt.plot(hist.history['val_accuracy'], label = 'Test Accuracy')\n",
    "plt.legend()\n",
    "plt.title(label = f'acc ', fontsize=16)\n",
    "# plt.savefig(f'./charts/rnn/acc/{company}.png', bbox_inches='tight')\n",
    "# plt.savefig(f'./charts/rnn/acc/{company}t.png', transparent=True)\n",
    "\n",
    "\n",
    "plt.plot(hist.history['loss'], label = 'Train Loss')\n",
    "plt.plot(hist.history['val_loss'], label = 'Test Loss')\n",
    "plt.title(label = f'loss ', fontsize=16)\n",
    "# plt.savefig(f'./charts/rnn/loss/{company}.png', bbox_inches='tight')\n",
    "# plt.savefig(f'./charts/rnn/loss/{company}t.png', transparent=True)"
   ]
  },
  {
   "cell_type": "code",
   "execution_count": 10,
   "metadata": {
    "ExecuteTime": {
     "end_time": "2020-06-03T19:54:29.068054Z",
     "start_time": "2020-06-03T19:53:42.750184Z"
    }
   },
   "outputs": [
    {
     "name": "stdout",
     "output_type": "stream",
     "text": [
      "WARNING:tensorflow:From <ipython-input-10-c1d061d2ca5a>:1: Sequential.predict_classes (from tensorflow.python.keras.engine.sequential) is deprecated and will be removed after 2021-01-01.\n",
      "Instructions for updating:\n",
      "Please use instead:* `np.argmax(model.predict(x), axis=-1)`,   if your model does multi-class classification   (e.g. if it uses a `softmax` last-layer activation).* `(model.predict(x) > 0.5).astype(\"int32\")`,   if your model does binary classification   (e.g. if it uses a `sigmoid` last-layer activation).\n"
     ]
    },
    {
     "data": {
      "text/plain": [
       "array([0, 0, 0, ..., 0, 0, 0])"
      ]
     },
     "execution_count": 10,
     "metadata": {},
     "output_type": "execute_result"
    }
   ],
   "source": [
    "preds = model.predict_classes(test_seq)\n",
    "\n",
    "preds.sort()\n",
    "\n",
    "preds"
   ]
  },
  {
   "cell_type": "code",
   "execution_count": 36,
   "metadata": {
    "ExecuteTime": {
     "end_time": "2020-06-03T00:02:02.756881Z",
     "start_time": "2020-06-03T00:02:02.750875Z"
    }
   },
   "outputs": [
    {
     "data": {
      "text/plain": [
       "338"
      ]
     },
     "execution_count": 36,
     "metadata": {},
     "output_type": "execute_result"
    }
   ],
   "source": [
    "preds.sum()"
   ]
  },
  {
   "cell_type": "code",
   "execution_count": 37,
   "metadata": {
    "ExecuteTime": {
     "end_time": "2020-06-03T00:02:08.270614Z",
     "start_time": "2020-06-03T00:02:08.266550Z"
    }
   },
   "outputs": [
    {
     "data": {
      "text/plain": [
       "2576233"
      ]
     },
     "execution_count": 37,
     "metadata": {},
     "output_type": "execute_result"
    }
   ],
   "source": [
    "len(preds)"
   ]
  },
  {
   "cell_type": "code",
   "execution_count": 11,
   "metadata": {
    "ExecuteTime": {
     "end_time": "2020-06-03T19:54:35.581662Z",
     "start_time": "2020-06-03T19:54:35.531261Z"
    }
   },
   "outputs": [
    {
     "name": "stdout",
     "output_type": "stream",
     "text": [
      "[[      0]\n",
      " [2576243]]\n"
     ]
    }
   ],
   "source": [
    "unique_elements, counts_elements = np.unique(preds, return_counts=True)\n",
    "print(np.asarray((unique_elements, counts_elements)))"
   ]
  },
  {
   "cell_type": "code",
   "execution_count": 12,
   "metadata": {
    "ExecuteTime": {
     "end_time": "2020-06-03T19:54:43.035255Z",
     "start_time": "2020-06-03T19:54:42.845177Z"
    }
   },
   "outputs": [
    {
     "name": "stdout",
     "output_type": "stream",
     "text": [
      "[[0.000000e+00 1.000000e+00]\n",
      " [5.152496e+06 2.576248e+06]]\n"
     ]
    }
   ],
   "source": [
    "unique_elements, counts_elements = np.unique(y_test, return_counts=True)\n",
    "print(np.asarray((unique_elements, counts_elements)))"
   ]
  },
  {
   "cell_type": "code",
   "execution_count": 13,
   "metadata": {
    "ExecuteTime": {
     "end_time": "2020-06-03T19:55:01.381643Z",
     "start_time": "2020-06-03T19:55:00.197919Z"
    }
   },
   "outputs": [
    {
     "name": "stdout",
     "output_type": "stream",
     "text": [
      "[[0.0000000e+00 1.0000000e+00]\n",
      " [2.0609978e+07 1.0304989e+07]]\n"
     ]
    }
   ],
   "source": [
    "unique_elements, counts_elements = np.unique(y, return_counts=True)\n",
    "print(np.asarray((unique_elements, counts_elements)))"
   ]
  },
  {
   "cell_type": "code",
   "execution_count": null,
   "metadata": {},
   "outputs": [],
   "source": [
    "with open(f'./models/rnn/{company}rnn_notweets.pkl', 'wb') as pickle_out:\n",
    "    pickle.dump(model, pickle_out)"
   ]
  },
  {
   "cell_type": "code",
   "execution_count": 15,
   "metadata": {
    "ExecuteTime": {
     "end_time": "2020-06-03T19:55:25.916252Z",
     "start_time": "2020-06-03T19:55:25.731171Z"
    }
   },
   "outputs": [
    {
     "data": {
      "text/plain": [
       "1    10239130\n",
       "2       33317\n",
       "0       32542\n",
       "Name: target, dtype: int64"
      ]
     },
     "execution_count": 15,
     "metadata": {},
     "output_type": "execute_result"
    }
   ],
   "source": [
    "df['target'].value_counts()"
   ]
  },
  {
   "cell_type": "code",
   "execution_count": 17,
   "metadata": {
    "ExecuteTime": {
     "end_time": "2020-06-03T19:55:51.170584Z",
     "start_time": "2020-06-03T19:55:51.164552Z"
    }
   },
   "outputs": [
    {
     "data": {
      "text/plain": [
       "array([[0., 1., 0.],\n",
       "       [0., 1., 0.],\n",
       "       [0., 1., 0.],\n",
       "       ...,\n",
       "       [0., 1., 0.],\n",
       "       [0., 1., 0.],\n",
       "       [0., 0., 1.]], dtype=float32)"
      ]
     },
     "execution_count": 17,
     "metadata": {},
     "output_type": "execute_result"
    }
   ],
   "source": [
    "y"
   ]
  },
  {
   "cell_type": "code",
   "execution_count": null,
   "metadata": {},
   "outputs": [],
   "source": []
  }
 ],
 "metadata": {
  "kernelspec": {
   "display_name": "Python 3",
   "language": "python",
   "name": "python3"
  },
  "language_info": {
   "codemirror_mode": {
    "name": "ipython",
    "version": 3
   },
   "file_extension": ".py",
   "mimetype": "text/x-python",
   "name": "python",
   "nbconvert_exporter": "python",
   "pygments_lexer": "ipython3",
   "version": "3.7.6"
  }
 },
 "nbformat": 4,
 "nbformat_minor": 4
}
