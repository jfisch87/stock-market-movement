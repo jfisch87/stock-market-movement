{
 "cells": [
  {
   "cell_type": "code",
   "execution_count": 23,
   "metadata": {
    "ExecuteTime": {
     "end_time": "2020-06-04T23:10:44.749245Z",
     "start_time": "2020-06-04T23:10:44.726628Z"
    }
   },
   "outputs": [],
   "source": [
    "import numpy as np\n",
    "import pandas as pd\n",
    "\n",
    "from sklearn.preprocessing import StandardScaler\n",
    "from sklearn.model_selection import train_test_split\n",
    "from sklearn.metrics import accuracy_score, confusion_matrix\n",
    "\n",
    "from tensorflow.keras.models import Sequential\n",
    "from tensorflow.keras.layers import Dense, Dropout, GRU, Embedding\n",
    "from tensorflow.keras.optimizers import Adam\n",
    "from tensorflow.keras.preprocessing.sequence import TimeseriesGenerator\n",
    "from tensorflow.keras.utils import to_categorical\n",
    "import pickle\n",
    "import os\n",
    "\n",
    "import matplotlib.pyplot as plt\n",
    "%matplotlib inline"
   ]
  },
  {
   "cell_type": "code",
   "execution_count": 25,
   "metadata": {
    "ExecuteTime": {
     "end_time": "2020-06-04T23:11:07.307275Z",
     "start_time": "2020-06-04T23:10:57.703304Z"
    }
   },
   "outputs": [
    {
     "data": {
      "text/plain": [
       "30"
      ]
     },
     "execution_count": 25,
     "metadata": {},
     "output_type": "execute_result"
    }
   ],
   "source": [
    "directory = './datasets/dow_clean/min/'\n",
    "files = [file for file in os.listdir(directory) if file.endswith('.csv')]\n",
    "\n",
    "stocks = {}\n",
    "for file in files:\n",
    "    df = pd.read_csv(directory + file, index_col='date_time', parse_dates=True)\n",
    "    df.sort_index(inplace=True)\n",
    "    df['target'] = np.where(df['mean_px_1'] > 0, 2,\n",
    "                           np.where(df['mean_px_1'] < 0, 0, 1))\n",
    "    ticker = df['ticker'][0]\n",
    "    stocks[ticker] = df\n"
   ]
  },
  {
   "cell_type": "code",
   "execution_count": null,
   "metadata": {},
   "outputs": [],
   "source": [
    "results = pd.DataFrame(columns=['loss', 'accuracy', 'val_loss', 'val_accuracy', 'company', 'epoch'])\n",
    "resample = 'min'\n",
    "for ticker, df in stocks.items():\n",
    "    hist = build_model(df, ticker)\n",
    "    histdf = pd.DataFrame(hist.history)\n",
    "    histdf['company'] = ticker\n",
    "    histdf['epoch'] = histdf.index+1\n",
    "    results.append(histdf)"
   ]
  },
  {
   "cell_type": "code",
   "execution_count": 72,
   "metadata": {
    "ExecuteTime": {
     "end_time": "2020-06-05T01:09:54.511671Z",
     "start_time": "2020-06-05T01:09:54.495834Z"
    }
   },
   "outputs": [],
   "source": [
    "def build_model(df, ticker):\n",
    "    \n",
    "    # nas/split\n",
    "    df.dropna(inplace=True)\n",
    "    X = df.drop(columns=['target', 'ticker', 'price open', 'price close', 'price low'])\n",
    "    y = df['target']\n",
    "    y = to_categorical(y)\n",
    "    X_train, X_test, y_train, y_test = train_test_split(X, y, shuffle=False, test_size=.2)\n",
    "    \n",
    "    #scale\n",
    "    ss = StandardScaler()\n",
    "    X_train_sc = ss.fit_transform(X_train)\n",
    "    X_test_sc = ss.transform(X_test)\n",
    "    \n",
    "    # time series gen\n",
    "    tsg_len = 5\n",
    "    tsg_batch = 512\n",
    "    train_seq = TimeseriesGenerator(X_train_sc, y_train, \n",
    "                                    length=tsg_len, batch_size=tsg_batch)\n",
    "    test_seq = TimeseriesGenerator(X_test_sc, y_test, \n",
    "                                   length=tsg_len, batch_size=tsg_batch)\n",
    "    # Design RNN\n",
    "    model = Sequential()\n",
    "    model.add(GRU(32,\n",
    "                 input_dim=X.shape[1],\n",
    "                 return_sequences=True)) # True if next layer is RNN\n",
    "    model.add(GRU(16,return_sequences=False)) # False if next layer is Dense\n",
    "    model.add(Dense(8, activation='relu'))\n",
    "    model.add(Dense(4, activation='relu'))\n",
    "    # output layer\n",
    "    model.add(Dense(3, activation='softmax'))\n",
    "    model.compile(loss='categorical_crossentropy', optimizer=Adam(),\n",
    "                  metrics = ['accuracy'])\n",
    "    hist = model.fit(train_seq,\n",
    "                    epochs=50,\n",
    "                    validation_data=test_seq,\n",
    "                    verbose = 0)\n",
    "    \n",
    "\n",
    "    plot_acc(hist, ticker)\n",
    "    plot_loss(hist, ticker)\n",
    "\n",
    "    # metrics:\n",
    "    # https://stackoverflow.com/questions/54875846/how-to-print-labels-and-column-names-for-confusion-matrix\n",
    "    preds = np.argmax(model.predict(test_seq), axis=-1)\n",
    "    labels = ['Down', 'Flat', 'Up']\n",
    "    y_cats = np.argmax(y_test, axis=1)\n",
    "    cf = confusion_matrix(y_cats[tsg_len:], preds)\n",
    "    cf_df = pd.DataFrame(cf, columns=labels, index=labels)\n",
    "    cf_df.to_csv(f'./charts/rnn/{resample}/cm/{ticker}.csv', index=True)\n",
    "    #pickle model\n",
    "    model.save(f'./models/rnn/{resample}/{ticker}_rnn')\n",
    "    return hist\n",
    "#  to load model back:\n",
    "# from tensorflow import keras\n",
    "# model = keras.models.load_model('path/to/location')"
   ]
  },
  {
   "cell_type": "code",
   "execution_count": 70,
   "metadata": {
    "ExecuteTime": {
     "end_time": "2020-06-05T01:03:59.646582Z",
     "start_time": "2020-06-05T01:03:59.565678Z"
    }
   },
   "outputs": [],
   "source": [
    "def plot_acc(hist, ticker):\n",
    "    # plot acc and loss\n",
    "    plt.figure()\n",
    "    plt.plot(hist.history['accuracy'], label = 'Train Accuracy')\n",
    "    plt.plot(hist.history['val_accuracy'], label = 'Test Accuracy')\n",
    "    plt.title(label = f'{ticker.upper()} Accuracy', fontsize=16)\n",
    "    plt.legend()\n",
    "#     plt.show()\n",
    "    plt.savefig(f'./charts/rnn/{resample}/acc/{ticker}.png', bbox_inches='tight')\n",
    "    plt.savefig(f'./charts/rnn/{resample}/acc/{ticker}t.png', transparent=True)\n",
    "\n",
    "def plot_loss(hist, ticker):\n",
    "    plt.figure()\n",
    "    plt.plot(hist.history['loss'], label = 'Train Loss')\n",
    "    plt.plot(hist.history['val_loss'], label = 'Test Loss')\n",
    "    plt.title(label = f'{ticker.upper()} Loss', fontsize=16)\n",
    "    plt.legend()\n",
    "#     plt.show()\n",
    "    plt.savefig(f'./charts/rnn/{resample}/loss/{ticker}.png', bbox_inches='tight')\n",
    "    plt.savefig(f'./charts/rnn/{resample}/loss/{ticker}t.png', transparent=True)"
   ]
  },
  {
   "cell_type": "code",
   "execution_count": null,
   "metadata": {},
   "outputs": [],
   "source": []
  },
  {
   "cell_type": "code",
   "execution_count": 5,
   "metadata": {
    "ExecuteTime": {
     "end_time": "2020-06-03T15:38:24.816147Z",
     "start_time": "2020-06-03T15:38:21.550498Z"
    }
   },
   "outputs": [],
   "source": [
    "X = df.drop(columns=['target', 'ticker', 'price open', 'price close', 'price low'])\n",
    "y = df['target']\n",
    "y = to_categorical(y)\n",
    "X_train, X_test, y_train, y_test = train_test_split(X, y, shuffle=False)"
   ]
  },
  {
   "cell_type": "code",
   "execution_count": 7,
   "metadata": {
    "ExecuteTime": {
     "end_time": "2020-06-03T15:40:13.980423Z",
     "start_time": "2020-06-03T15:40:05.467772Z"
    }
   },
   "outputs": [],
   "source": [
    "ss = StandardScaler()\n",
    "X_train_sc = ss.fit_transform(X_train)\n",
    "X_test_sc = ss.transform(X_test)\n",
    "\n",
    "tsg_len = 5\n",
    "tsg_batch = 512\n",
    "train_seq = TimeseriesGenerator(X_train_sc, y_train, \n",
    "                                length=tsg_len, batch_size=tsg_batch)\n",
    "test_seq = TimeseriesGenerator(X_test_sc, y_test, \n",
    "                               length=tsg_len, batch_size=tsg_batch)\n"
   ]
  },
  {
   "cell_type": "code",
   "execution_count": 8,
   "metadata": {
    "ExecuteTime": {
     "end_time": "2020-06-03T19:52:46.858806Z",
     "start_time": "2020-06-03T15:40:13.986719Z"
    },
    "collapsed": true
   },
   "outputs": [
    {
     "name": "stdout",
     "output_type": "stream",
     "text": [
      "Epoch 1/20\n",
      "120762/120762 [==============================] - 691s 6ms/step - loss: nan - accuracy: 0.8582 - val_loss: nan - val_accuracy: 0.0024\n",
      "Epoch 2/20\n",
      "120762/120762 [==============================] - 701s 6ms/step - loss: nan - accuracy: 0.0034 - val_loss: nan - val_accuracy: 0.0024\n",
      "Epoch 3/20\n",
      "120762/120762 [==============================] - 689s 6ms/step - loss: nan - accuracy: 0.0034 - val_loss: nan - val_accuracy: 0.0024\n",
      "Epoch 4/20\n",
      "120762/120762 [==============================] - 683s 6ms/step - loss: nan - accuracy: 0.0034 - val_loss: nan - val_accuracy: 0.0024\n",
      "Epoch 5/20\n",
      "120762/120762 [==============================] - 682s 6ms/step - loss: nan - accuracy: 0.0034 - val_loss: nan - val_accuracy: 0.0024\n",
      "Epoch 6/20\n",
      "120762/120762 [==============================] - 682s 6ms/step - loss: nan - accuracy: 0.0034 - val_loss: nan - val_accuracy: 0.0024\n",
      "Epoch 7/20\n",
      "120762/120762 [==============================] - 691s 6ms/step - loss: nan - accuracy: 0.0034 - val_loss: nan - val_accuracy: 0.0024\n",
      "Epoch 8/20\n",
      "120762/120762 [==============================] - 697s 6ms/step - loss: nan - accuracy: 0.0034 - val_loss: nan - val_accuracy: 0.0024\n",
      "Epoch 9/20\n",
      "120762/120762 [==============================] - 689s 6ms/step - loss: nan - accuracy: 0.0034 - val_loss: nan - val_accuracy: 0.0024\n",
      "Epoch 10/20\n",
      "120762/120762 [==============================] - 672s 6ms/step - loss: nan - accuracy: 0.0034 - val_loss: nan - val_accuracy: 0.0024\n",
      "Epoch 11/20\n",
      "120762/120762 [==============================] - 675s 6ms/step - loss: nan - accuracy: 0.0034 - val_loss: nan - val_accuracy: 0.0024\n",
      "Epoch 12/20\n",
      "120762/120762 [==============================] - 682s 6ms/step - loss: nan - accuracy: 0.0034 - val_loss: nan - val_accuracy: 0.0024\n",
      "Epoch 13/20\n",
      "120762/120762 [==============================] - 670s 6ms/step - loss: nan - accuracy: 0.0034 - val_loss: nan - val_accuracy: 0.0024\n",
      "Epoch 14/20\n",
      "120762/120762 [==============================] - 684s 6ms/step - loss: nan - accuracy: 0.0034 - val_loss: nan - val_accuracy: 0.0024\n",
      "Epoch 15/20\n",
      "120762/120762 [==============================] - 2162s 18ms/step - loss: nan - accuracy: 0.0034 - val_loss: nan - val_accuracy: 0.0024\n",
      "Epoch 16/20\n",
      "120762/120762 [==============================] - 714s 6ms/step - loss: nan - accuracy: 0.0034 - val_loss: nan - val_accuracy: 0.0024\n",
      "Epoch 17/20\n",
      "120762/120762 [==============================] - 676s 6ms/step - loss: nan - accuracy: 0.0034 - val_loss: nan - val_accuracy: 0.0024\n",
      "Epoch 18/20\n",
      "120762/120762 [==============================] - 671s 6ms/step - loss: nan - accuracy: 0.0034 - val_loss: nan - val_accuracy: 0.0024\n",
      "Epoch 19/20\n",
      "120762/120762 [==============================] - 673s 6ms/step - loss: nan - accuracy: 0.0034 - val_loss: nan - val_accuracy: 0.0024\n",
      "Epoch 20/20\n",
      "120762/120762 [==============================] - 660s 5ms/step - loss: nan - accuracy: 0.0034 - val_loss: nan - val_accuracy: 0.0024\n"
     ]
    }
   ],
   "source": [
    "# Design RNN\n",
    "model = Sequential()\n",
    "model.add(GRU(32,\n",
    "             input_dim=X.shape[1],\n",
    "             return_sequences=True)) # True if next layer is RNN\n",
    "model.add(GRU(16,return_sequences=False)) # False if next layer is Dense\n",
    "model.add(Dense(8, activation='relu'))\n",
    "model.add(Dense(4, activation='relu'))\n",
    "# output layer\n",
    "model.add(Dense(3, activation='softmax'))\n",
    "model.compile(loss='categorical_crossentropy', optimizer=Adam(),\n",
    "              metrics = ['accuracy'])\n",
    "hist = model.fit(train_seq,\n",
    "                epochs=10,\n",
    "                validation_data=test_seq)\n"
   ]
  },
  {
   "cell_type": "code",
   "execution_count": 18,
   "metadata": {
    "ExecuteTime": {
     "end_time": "2020-06-04T20:19:31.303540Z",
     "start_time": "2020-06-04T20:19:29.442678Z"
    },
    "collapsed": true
   },
   "outputs": [
    {
     "data": {
      "image/png": "[encoded data removed]",
      "text/plain": [
       "<Figure size 432x288 with 1 Axes>"
      ]
     },
     "metadata": {
      "needs_background": "light"
     },
     "output_type": "display_data"
    },
    {
     "data": {
      "image/png": "[encoded data removed]",
      "text/plain": [
       "<Figure size 432x288 with 1 Axes>"
      ]
     },
     "metadata": {
      "needs_background": "light"
     },
     "output_type": "display_data"
    }
   ],
   "source": [
    "plt.plot(hist.history['accuracy'], label = 'Train Accuracy')\n",
    "plt.plot(hist.history['val_accuracy'], label = 'Test Accuracy')\n",
    "plt.legend()\n",
    "plt.title(label = f'acc ', fontsize=16)\n",
    "plt.show()\n",
    "# plt.savefig(f'./charts/rnn/acc/{company}.png', bbox_inches='tight')\n",
    "# plt.savefig(f'./charts/rnn/acc/{company}t.png', transparent=True)\n",
    "\n",
    "\n",
    "plt.plot(hist.history['loss'], label = 'Train Loss')\n",
    "plt.plot(hist.history['val_loss'], label = 'Test Loss')\n",
    "plt.title(label = f'loss ', fontsize=16)\n",
    "plt.show()\n",
    "# plt.savefig(f'./charts/rnn/loss/{company}.png', bbox_inches='tight')\n",
    "# plt.savefig(f'./charts/rnn/loss/{company}t.png', transparent=True)"
   ]
  },
  {
   "cell_type": "code",
   "execution_count": 20,
   "metadata": {
    "ExecuteTime": {
     "end_time": "2020-06-04T23:05:11.675155Z",
     "start_time": "2020-06-04T23:04:05.308214Z"
    }
   },
   "outputs": [],
   "source": [
    "preds = np.argmax(model.predict(test_seq), axis=-1)\n",
    "\n"
   ]
  },
  {
   "cell_type": "code",
   "execution_count": 21,
   "metadata": {
    "ExecuteTime": {
     "end_time": "2020-06-04T23:05:11.693466Z",
     "start_time": "2020-06-04T23:05:11.678498Z"
    }
   },
   "outputs": [
    {
     "data": {
      "text/plain": [
       "0"
      ]
     },
     "execution_count": 21,
     "metadata": {},
     "output_type": "execute_result"
    }
   ],
   "source": [
    "preds.sum()"
   ]
  },
  {
   "cell_type": "code",
   "execution_count": 37,
   "metadata": {
    "ExecuteTime": {
     "end_time": "2020-06-03T00:02:08.270614Z",
     "start_time": "2020-06-03T00:02:08.266550Z"
    }
   },
   "outputs": [
    {
     "data": {
      "text/plain": [
       "2576233"
      ]
     },
     "execution_count": 37,
     "metadata": {},
     "output_type": "execute_result"
    }
   ],
   "source": [
    "len(preds)"
   ]
  },
  {
   "cell_type": "code",
   "execution_count": 11,
   "metadata": {
    "ExecuteTime": {
     "end_time": "2020-06-03T19:54:35.581662Z",
     "start_time": "2020-06-03T19:54:35.531261Z"
    }
   },
   "outputs": [
    {
     "name": "stdout",
     "output_type": "stream",
     "text": [
      "[[      0]\n",
      " [2576243]]\n"
     ]
    }
   ],
   "source": [
    "unique_elements, counts_elements = np.unique(preds, return_counts=True)\n",
    "print(np.asarray((unique_elements, counts_elements)))"
   ]
  },
  {
   "cell_type": "code",
   "execution_count": 12,
   "metadata": {
    "ExecuteTime": {
     "end_time": "2020-06-03T19:54:43.035255Z",
     "start_time": "2020-06-03T19:54:42.845177Z"
    }
   },
   "outputs": [
    {
     "name": "stdout",
     "output_type": "stream",
     "text": [
      "[[0.000000e+00 1.000000e+00]\n",
      " [5.152496e+06 2.576248e+06]]\n"
     ]
    }
   ],
   "source": [
    "unique_elements, counts_elements = np.unique(y_test, return_counts=True)\n",
    "print(np.asarray((unique_elements, counts_elements)))"
   ]
  },
  {
   "cell_type": "code",
   "execution_count": 13,
   "metadata": {
    "ExecuteTime": {
     "end_time": "2020-06-03T19:55:01.381643Z",
     "start_time": "2020-06-03T19:55:00.197919Z"
    }
   },
   "outputs": [
    {
     "name": "stdout",
     "output_type": "stream",
     "text": [
      "[[0.0000000e+00 1.0000000e+00]\n",
      " [2.0609978e+07 1.0304989e+07]]\n"
     ]
    }
   ],
   "source": [
    "unique_elements, counts_elements = np.unique(y, return_counts=True)\n",
    "print(np.asarray((unique_elements, counts_elements)))"
   ]
  },
  {
   "cell_type": "code",
   "execution_count": null,
   "metadata": {},
   "outputs": [],
   "source": [
    "with open(f'./models/rnn/{company}rnn_notweets.pkl', 'wb') as pickle_out:\n",
    "    pickle.dump(model, pickle_out)"
   ]
  },
  {
   "cell_type": "code",
   "execution_count": 15,
   "metadata": {
    "ExecuteTime": {
     "end_time": "2020-06-03T19:55:25.916252Z",
     "start_time": "2020-06-03T19:55:25.731171Z"
    }
   },
   "outputs": [
    {
     "data": {
      "text/plain": [
       "1    10239130\n",
       "2       33317\n",
       "0       32542\n",
       "Name: target, dtype: int64"
      ]
     },
     "execution_count": 15,
     "metadata": {},
     "output_type": "execute_result"
    }
   ],
   "source": [
    "df['target'].value_counts()"
   ]
  },
  {
   "cell_type": "code",
   "execution_count": 17,
   "metadata": {
    "ExecuteTime": {
     "end_time": "2020-06-03T19:55:51.170584Z",
     "start_time": "2020-06-03T19:55:51.164552Z"
    },
    "collapsed": true
   },
   "outputs": [
    {
     "data": {
      "text/plain": [
       "array([[0., 1., 0.],\n",
       "       [0., 1., 0.],\n",
       "       [0., 1., 0.],\n",
       "       ...,\n",
       "       [0., 1., 0.],\n",
       "       [0., 1., 0.],\n",
       "       [0., 0., 1.]], dtype=float32)"
      ]
     },
     "execution_count": 17,
     "metadata": {},
     "output_type": "execute_result"
    }
   ],
   "source": [
    "y"
   ]
  },
  {
   "cell_type": "code",
   "execution_count": null,
   "metadata": {},
   "outputs": [],
   "source": []
  }
 ],
 "metadata": {
  "kernelspec": {
   "display_name": "Python 3",
   "language": "python",
   "name": "python3"
  },
  "language_info": {
   "codemirror_mode": {
    "name": "ipython",
    "version": 3
   },
   "file_extension": ".py",
   "mimetype": "text/x-python",
   "name": "python",
   "nbconvert_exporter": "python",
   "pygments_lexer": "ipython3",
   "version": "3.7.6"
  }
 },
 "nbformat": 4,
 "nbformat_minor": 4
}
